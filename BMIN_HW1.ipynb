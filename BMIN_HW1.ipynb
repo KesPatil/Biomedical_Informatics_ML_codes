{
 "cells": [
  {
   "cell_type": "markdown",
   "metadata": {},
   "source": [
    "# <center>BMIN-521-HW1\n",
    "#### <center>by Keshav Patil@UPenn\n",
    "---"
   ]
  },
  {
   "cell_type": "code",
   "execution_count": 1,
   "metadata": {},
   "outputs": [],
   "source": [
    "# Import required library\n",
    "import numpy as np # scientific computing; https://cs231n.github.io/python-numpy-tutorial/\n",
    "import pandas as pd # data manipulation and analysis; offers data structures and operations.\n",
    "import seaborn as sns\n",
    "import matplotlib.pyplot as plt\n",
    "import os # interact and get Operating System information "
   ]
  },
  {
   "cell_type": "code",
   "execution_count": 2,
   "metadata": {},
   "outputs": [],
   "source": [
    "def rand_gen(seed,num_of_inputs, dim_of_inputs):\n",
    "    np.random.seed(seed)\n",
    "    inputs = np.around(8.2 * np.random.random_sample((dim_of_inputs, num_of_inputs)) - 4.1, decimals=2)\n",
    "    return (inputs)"
   ]
  },
  {
   "cell_type": "code",
   "execution_count": 3,
   "metadata": {},
   "outputs": [],
   "source": [
    "def lab_gen(inputs, dim_of_inputs, weights):\n",
    "    inputsi = np.concatenate((np.ones((1,len(inputs[0]))),inputs),axis=0)\n",
    "    labels = np.sign(np.dot(weights, inputsi))\n",
    "    labels[labels == 0] = -1\n",
    "    df = pd.DataFrame(data = inputsi[0:, 0:]).T\n",
    "    df.columns = ['x'+str(i) for i in range(dim_of_inputs+1)]\n",
    "    df['y'] = labels\n",
    "    return(labels)"
   ]
  },
  {
   "cell_type": "markdown",
   "metadata": {},
   "source": [
    "### 1(a) Generate function $h(x) = w_0 + w_1 * x_1 + w_2 * x_2$  |        where w = [1, 2, 3]"
   ]
  },
  {
   "cell_type": "code",
   "execution_count": 4,
   "metadata": {},
   "outputs": [
    {
     "data": {
      "image/png": "[encoded data removed]",
      "text/plain": [
       "<Figure size 432x288 with 1 Axes>"
      ]
     },
     "metadata": {
      "needs_background": "light"
     },
     "output_type": "display_data"
    }
   ],
   "source": [
    "# paras\n",
    "dim = 2\n",
    "num = 150000\n",
    "seed = 0\n",
    "w = [1, 2, 3]\n",
    "\n",
    "# generate data\n",
    "x = rand_gen(seed,num, dim)\n",
    "y = lab_gen(x, dim, w)\n",
    "\n",
    "i = 0\n",
    "x_l = np.zeros(x.shape)\n",
    "x_u = np.zeros(x.shape)\n",
    "for i in range(0,len(y)):\n",
    "    if y[i] <= 0:\n",
    "        x_l[0,i] = x[0,i]\n",
    "        x_l[1,i] = x[1,i]\n",
    "    else:\n",
    "        x_u[0,i] = x[0,i]\n",
    "        x_u[1,i] = x[1,i]\n",
    "\n",
    "\n",
    "\n",
    "plt.scatter(x_l[0,:],x_l[1,:],color='orange',label='-1')\n",
    "plt.scatter(x_u[0,:],x_u[1,:],color='blue', label='+l')\n",
    "plt.title('1(a) h(x) = '+str(w[0])+'+'+str(w[1])+'*'+'x1'+'+'+str(w[2])+'*'+'x2')\n",
    "plt.xlabel('x1')\n",
    "plt.ylabel('x2')\n",
    "plt.xlim((-4,4))\n",
    "plt.ylim((-4,4))\n",
    "plt.legend(loc='upper left')\n",
    "plt.savefig('1(a).png')\n",
    "plt.show()"
   ]
  },
  {
   "cell_type": "markdown",
   "metadata": {},
   "source": [
    "### 1(b) Generate function $h(x) = w_0 + w_1 * x_1 + w_2 * x_2$ | where w = -[1, 2, 3]"
   ]
  },
  {
   "cell_type": "code",
   "execution_count": 5,
   "metadata": {},
   "outputs": [
    {
     "data": {
      "image/png": "[encoded data removed]",
      "text/plain": [
       "<Figure size 432x288 with 1 Axes>"
      ]
     },
     "metadata": {
      "needs_background": "light"
     },
     "output_type": "display_data"
    }
   ],
   "source": [
    "# input the parameters\n",
    "dim = 2\n",
    "num = 150000\n",
    "seed = 0\n",
    "w = [-1, -2, -3]\n",
    "\n",
    "# generate data\n",
    "x = rand_gen(seed,num, dim)\n",
    "y = lab_gen(x, dim, w)\n",
    "\n",
    "i = 0\n",
    "x_l = np.zeros(x.shape)\n",
    "x_u = np.zeros(x.shape)\n",
    "for i in range(0,len(y)):\n",
    "    if y[i] <= 0:\n",
    "        x_l[0,i] = x[0,i]\n",
    "        x_l[1,i] = x[1,i]\n",
    "    else:\n",
    "        x_u[0,i] = x[0,i]\n",
    "        x_u[1,i] = x[1,i]\n",
    "\n",
    "\n",
    "\n",
    "\n",
    "plt.scatter(x_u[0,:],x_u[1,:],color='blue',label='1')\n",
    "plt.scatter(x_l[0,:],x_l[1,:],color='orange',label='-1')\n",
    "\n",
    "plt.title('1(a) h(x) = '+str(w[0])+'+'+str(w[1])+'*'+'x1'+'+'+str(w[2])+'*'+'x2')\n",
    "plt.xlabel('x1')\n",
    "plt.ylabel('x2')\n",
    "plt.xlim((-4,4))\n",
    "plt.ylim((-4,4))\n",
    "plt.legend(loc='upper left')\n",
    "plt.savefig('1(b).png')\n",
    "plt.show()\n"
   ]
  },
  {
   "cell_type": "markdown",
   "metadata": {},
   "source": [
    "We have two equations to get the slope and the intercepts <br>\n",
    "$ w_0 + w_1*x_1 + w_2 * x_2 = 0 $  (eq1) and <br>\n",
    "$ x_2 = a * x_1 + b $  (eq2) <br>\n",
    "and the first equation gives us <br>\n",
    "$ x_2 = -(w_1/w_2)*x_1 + (-w_0/w_2)$ and by comparing with equation 2 we have <br>\n",
    "\n",
    "$a = -(w_1/w_2)$  and $b = (-w_0/w_2)$"
   ]
  },
  {
   "cell_type": "markdown",
   "metadata": {},
   "source": [
    "# Question 2"
   ]
  },
  {
   "cell_type": "markdown",
   "metadata": {},
   "source": [
    "### First let's create a target function f in a d = 2 space for better visualization\n",
    "### f = 1  if sign(1 + 5x1 + 3x2) > 0\n",
    "### f = -1 if sign(1 + 5x1 + 3x2) < 0 "
   ]
  },
  {
   "cell_type": "code",
   "execution_count": 9,
   "metadata": {},
   "outputs": [
    {
     "data": {
      "image/png": "[encoded data removed]",
      "text/plain": [
       "<Figure size 432x288 with 1 Axes>"
      ]
     },
     "metadata": {
      "needs_background": "light"
     },
     "output_type": "display_data"
    }
   ],
   "source": [
    "# input the parameters\n",
    "dim = 2\n",
    "num = 150000\n",
    "seed = 0\n",
    "w = [1, 5, 3]\n",
    "\n",
    "# generate data\n",
    "x = rand_gen(seed,num, dim)\n",
    "y = lab_gen(x, dim, w)\n",
    "\n",
    "i = 0\n",
    "x_l = np.zeros(x.shape)\n",
    "x_u = np.zeros(x.shape)\n",
    "for i in range(0,len(y)):\n",
    "    if y[i] <= 0:\n",
    "        x_l[0,i] = x[0,i]\n",
    "        x_l[1,i] = x[1,i]\n",
    "    else:\n",
    "        x_u[0,i] = x[0,i]\n",
    "        x_u[1,i] = x[1,i]\n",
    "\n",
    "\n",
    "plt.scatter(x_l[0,:],x_l[1,:],color='orange',marker='s',label='-1')\n",
    "plt.scatter(x_u[0,:],x_u[1,:],color='blue', marker='s', label='1')\n",
    "plt.title('1(a) h(x) = '+str(w[0])+'+'+str(w[1])+'*'+'x1'+'+'+str(w[2])+'*'+'x2')\n",
    "plt.xlabel('x1')\n",
    "plt.ylabel('x2')\n",
    "plt.xlim((-4,4))\n",
    "plt.ylim((-4,4))\n",
    "plt.legend(loc='upper left')\n",
    "plt.savefig('2.png')\n",
    "plt.show()\n",
    "\n"
   ]
  },
  {
   "cell_type": "markdown",
   "metadata": {},
   "source": [
    "#### Now we have created a target function. So lets define a dataset D of 20 random points that are linearly separable"
   ]
  },
  {
   "cell_type": "markdown",
   "metadata": {},
   "source": [
    "#### Now lets define a function that checks if a given point is in a particular zone out of the two that we have:\n",
    "#### +1 and -1 "
   ]
  },
  {
   "cell_type": "code",
   "execution_count": 7,
   "metadata": {},
   "outputs": [],
   "source": [
    "def check_zone(inputs, dim_of_inputs, weights):\n",
    "    labels = np.sign(np.dot(weights, inputs))\n",
    "    if labels == 0:\n",
    "        return -1\n",
    "    else:\n",
    "        return labels\n"
   ]
  },
  {
   "cell_type": "markdown",
   "metadata": {},
   "source": [
    "#### Function to predict the y for points (x) in the Dataset (D) given non-converged weigths"
   ]
  },
  {
   "cell_type": "code",
   "execution_count": 8,
   "metadata": {},
   "outputs": [],
   "source": [
    "def y_pred(inputs, dim_of_inputs, weights):\n",
    "    inputsi = np.concatenate((np.ones((1,len(inputs[0]))),inputs),axis=0)\n",
    "    y_pred = np.sign(np.dot(weights, inputsi))\n",
    "    y_pred[y_pred == 0] = -1\n",
    "    df = pd.DataFrame(data = inputsi[0:, 0:]).T\n",
    "    df.columns = ['x'+str(i) for i in range(dim_of_inputs+1)]\n",
    "    df['y'] = y_pred\n",
    "    return(y_pred,df)\n",
    "                             \n",
    "    \n",
    "    "
   ]
  },
  {
   "cell_type": "markdown",
   "metadata": {},
   "source": [
    "## Section 2 a\n",
    "#### Now lets see how our dataset D looks alongwith the target function f"
   ]
  },
  {
   "cell_type": "code",
   "execution_count": 10,
   "metadata": {},
   "outputs": [
    {
     "data": {
      "image/png": "[encoded data removed]",
      "text/plain": [
       "<Figure size 432x288 with 1 Axes>"
      ]
     },
     "metadata": {
      "needs_background": "light"
     },
     "output_type": "display_data"
    }
   ],
   "source": [
    "# input the parameters\n",
    "seed = 0\n",
    "w = [1, 5, 3]\n",
    " \n",
    "# Define the parameters of your dataset and create it\n",
    "dim = 2\n",
    "num = 20\n",
    "inputs = rand_gen(seed, num, dim)\n",
    "\n",
    "\n",
    "# plot the dataset alongwith the target function\n",
    "for i in range(0,len(inputs[0])):\n",
    "    var_x = np.array((1,inputs[0][i], inputs[1][i]))\n",
    "    rand_point = check_zone(var_x, dim, w)\n",
    "    if rand_point == 1:\n",
    "        plt.scatter(inputs[0][i],inputs[1][i],color='r',marker='^')\n",
    "    else:\n",
    "        plt.scatter(inputs[0][i], inputs[1][i],color='g', marker='o')\n",
    "    \n",
    "x1 = np.linspace(-4, 4, num=50)\n",
    "x2 = -(1+w[1]*x1)/w[2]\n",
    "\n",
    "\n",
    "plt.plot(x1,x2,'b-',label='Target function:f')\n",
    "\n",
    "plt.text(-1,2, '1+'+str(w[1])+'x1+'+str(w[2])+'x2=0',\n",
    "         rotation=-48,\n",
    "         horizontalalignment='center',\n",
    "         verticalalignment='top',\n",
    "         multialignment='center')\n",
    "plt.ylim((-4,4))\n",
    "plt.xlim((-4,4))\n",
    "plt.xlabel('x1',fontsize='20')\n",
    "plt.ylabel('x2', fontsize='20')\n",
    "plt.legend(loc='lower right',fontsize='12')\n",
    "plt.savefig('2(a).png')\n",
    "plt.show()\n",
    "\n",
    "\n",
    "\n",
    "    "
   ]
  },
  {
   "cell_type": "markdown",
   "metadata": {},
   "source": [
    "#### The target function 'f' is what we eventually want\n",
    "#### We would obtain it through a perceptron learning algorithm (PLA)\n",
    "#### beginning with a hypothesis 'g' and iterating it to bring it closer to 'f'\n",
    "#### For this we begin with a randomly defined weight set and apply PLA"
   ]
  },
  {
   "cell_type": "markdown",
   "metadata": {},
   "source": [
    "#### In the cell below we start with a randomly defined weight set and visulaize the misclassifications"
   ]
  },
  {
   "cell_type": "code",
   "execution_count": 11,
   "metadata": {},
   "outputs": [
    {
     "data": {
      "image/png": "[encoded data removed]",
      "text/plain": [
       "<Figure size 432x288 with 1 Axes>"
      ]
     },
     "metadata": {
      "needs_background": "light"
     },
     "output_type": "display_data"
    }
   ],
   "source": [
    "# initializing the weights\n",
    "w_current = [1,10,-50]\n",
    "\n",
    "\n",
    "# This w_target is only to plot the data points in a different marker and compare with w_current weight set to identify\n",
    "# the misclassified points\n",
    "w_target = [1,5,3]\n",
    "seed = 0\n",
    "\n",
    " \n",
    "# Define the parameters of your dataset and create iit\n",
    "dim = 2\n",
    "num = 20\n",
    "inputs = rand_gen(seed, num, dim)\n",
    "\n",
    "\n",
    "# plot the dataset alongwith the hypothesis function\n",
    "for i in range(0,len(inputs[0])):\n",
    "    var_x = np.array((1,inputs[0][i], inputs[1][i]))\n",
    "    rand_point = check_zone(var_x, dim, w)\n",
    "    if rand_point == 1:\n",
    "        plt.scatter(inputs[0][i],inputs[1][i],color='r',marker='^')\n",
    "    else:\n",
    "        plt.scatter(inputs[0][i], inputs[1][i],color='g', marker='o')\n",
    "    \n",
    "x1 = np.linspace(-4, 4, num=50)\n",
    "x2 = -(1+w_current[1]*x1)/w_current[2]\n",
    "\n",
    "\n",
    "plt.plot(x1,x2,'b-',label='Hypothesis g') \n",
    "plt.ylim((-4,4))\n",
    "plt.xlim((-4,4))\n",
    "plt.xlabel('x1',fontsize='20')\n",
    "plt.ylabel('x2', fontsize='20')\n",
    "plt.legend(loc='lower right',fontsize='12')\n",
    "plt.show()\n",
    "\n",
    "\n",
    "# In the below we see misclassified points"
   ]
  },
  {
   "cell_type": "markdown",
   "metadata": {},
   "source": [
    "#### Function to check the misclassified points"
   ]
  },
  {
   "cell_type": "code",
   "execution_count": 12,
   "metadata": {},
   "outputs": [],
   "source": [
    "def mis_class(w_current,inputs,dim_of_inputs,y_lab):\n",
    "    t = [] # to collect the indices of misclassified points (x) in our Dataset (D)\n",
    "    #print (w_current)\n",
    "    labels_target = y_lab\n",
    "    labels_current,df = y_pred(inputs, dim_of_inputs, w_current)\n",
    "    \n",
    "    for r in range(0,len(labels_target)):\n",
    "        if labels_target[r] != labels_current[r]:\n",
    "            t.append(r)\n",
    "    return (t)"
   ]
  },
  {
   "cell_type": "markdown",
   "metadata": {},
   "source": [
    "#### Now we introduce the function to implement the PLA"
   ]
  },
  {
   "cell_type": "code",
   "execution_count": 13,
   "metadata": {},
   "outputs": [],
   "source": [
    "def pla(inputs,dim_of_inputs, w_target, w_current,y_lab):\n",
    "    \n",
    "    or_labels = y_lab\n",
    "    \n",
    "    \n",
    "    t = mis_class(w_current,inputs,dim_of_inputs, or_labels)\n",
    "    count = 0\n",
    "    while len(t)!=0:\n",
    "        r = np.random.randint(0,len(inputs[0])) # Pick up a random point in our dataset D\n",
    "        var_xp = np.hstack((1,inputs[:,r]))\n",
    "        if or_labels[r] == 1 and np.sign(np.dot(w_current,var_xp)) < 0:\n",
    "            w_current = w_current + var_xp\n",
    "        if or_labels[r] == -1 and np.sign(np.dot(w_current,var_xp)) >= 0:\n",
    "            w_current = w_current - var_xp\n",
    "    \n",
    "        count+= 1\n",
    "        t = mis_class(w_current,inputs,dim_of_inputs,or_labels)\n",
    "        #print (w_current)\n",
    "    return(w_current,count)\n",
    "   \n",
    "    \n",
    "    "
   ]
  },
  {
   "cell_type": "code",
   "execution_count": 14,
   "metadata": {},
   "outputs": [],
   "source": [
    "# PLA which takes number of iterations as the criteria\n",
    "def pla_iter(inputs,dim_of_inputs, w_target, w_current,y_lab,iterations):\n",
    "    \n",
    "    or_labels = y_lab\n",
    "    \n",
    "    \n",
    "    t = mis_class(w_current,inputs,dim_of_inputs, or_labels)\n",
    "    count = 0\n",
    "    i = 0 \n",
    "    for i in range(0,iterations):\n",
    "        r = np.random.randint(0,len(inputs[0])) # Pick up a random point in our dataset D\n",
    "        var_xp = np.hstack((1,inputs[:,r]))\n",
    "        if or_labels[r] == 1 and np.sign(np.dot(w_current,var_xp)) < 0:\n",
    "            w_current = w_current + var_xp\n",
    "        if or_labels[r] == -1 and np.sign(np.dot(w_current,var_xp)) >= 0:\n",
    "            w_current = w_current - var_xp\n",
    "    \n",
    "        count+= 1\n",
    "        t = mis_class(w_current,inputs,dim_of_inputs,or_labels)\n",
    "        #print (w_current)\n",
    "    return(w_current,count)"
   ]
  },
  {
   "cell_type": "markdown",
   "metadata": {},
   "source": [
    "## Section 2 b\n",
    "#### Now lets define a random weight and implement PLA to take our hypothesis 'g' closer to the target function 'f'"
   ]
  },
  {
   "cell_type": "code",
   "execution_count": 15,
   "metadata": {},
   "outputs": [
    {
     "name": "stdout",
     "output_type": "stream",
     "text": [
      "No. of iterations before convergence 34\n"
     ]
    },
    {
     "data": {
      "image/png": "[encoded data removed]",
      "text/plain": [
       "<Figure size 432x288 with 1 Axes>"
      ]
     },
     "metadata": {
      "needs_background": "light"
     },
     "output_type": "display_data"
    }
   ],
   "source": [
    "# initializing the weights (random)\n",
    "w_current = [-1,10,-50]\n",
    "\n",
    "\n",
    "# This w_target is only to plot the data points in a different marker and compare with w_current weight set to identify\n",
    "# the misclassified points\n",
    "w_target = [1,5,3]\n",
    "seed = 0\n",
    "\n",
    " \n",
    "# Define the parameters of your dataset and create iit\n",
    "dim = 2\n",
    "num = 20\n",
    "inputs = rand_gen(seed, num, dim)\n",
    "\n",
    "\n",
    "# plot the dataset alongwith the hypothesis function\n",
    "for i in range(0,len(inputs[0])):\n",
    "    var_x = np.array((1,inputs[0][i], inputs[1][i]))\n",
    "    rand_point = check_zone(var_x, dim, w)\n",
    "    if rand_point == 1:\n",
    "        plt.scatter(inputs[0][i],inputs[1][i],color='r',marker='^')\n",
    "    else:\n",
    "        plt.scatter(inputs[0][i], inputs[1][i],color='g', marker='o')\n",
    "\n",
    "weights  = w_target\n",
    "ylab = lab_gen(inputs,2, weights)\n",
    "# implement the PLA \n",
    "w_current, count = pla(inputs,dim, w_target, w_current, ylab)\n",
    "        \n",
    "print ('No. of iterations before convergence', count)        \n",
    "x1 = np.linspace(-4, 4, num=50)\n",
    "x2 = -(1+w_current[1]*x1)/w_current[2]\n",
    "x3 = np.linspace(-4, 4, num=50)\n",
    "x4 = -(1+w_target[1]*x1)/w_target[2]\n",
    "\n",
    "plt.plot(x1,x2,'b-',label='Hypothesis g') \n",
    "plt.plot(x3,x4,'y-',label='Target f')\n",
    "plt.ylim((-4,4))\n",
    "plt.xlim((-4,4))\n",
    "plt.xlabel('x1',fontsize='20')\n",
    "plt.ylabel('x2', fontsize='20')\n",
    "plt.legend(loc='lower right',fontsize='12')\n",
    "plt.savefig('2(b).png')\n",
    "plt.show()"
   ]
  },
  {
   "cell_type": "markdown",
   "metadata": {},
   "source": [
    "#### The closesness betweeen f and g could be commented as \"good\" since both of them classify all the points correctly, however not that great since the dataset is sparse"
   ]
  },
  {
   "cell_type": "markdown",
   "metadata": {},
   "source": [
    "## Section 2c\n",
    "#### Now repeating everything in \"b\" with another randomly generated dataset of size 20 \n"
   ]
  },
  {
   "cell_type": "code",
   "execution_count": 16,
   "metadata": {},
   "outputs": [
    {
     "name": "stdout",
     "output_type": "stream",
     "text": [
      "No. of iterations before convergence 219\n"
     ]
    },
    {
     "data": {
      "image/png": "[encoded data removed]",
      "text/plain": [
       "<Figure size 432x288 with 1 Axes>"
      ]
     },
     "metadata": {
      "needs_background": "light"
     },
     "output_type": "display_data"
    }
   ],
   "source": [
    "# initializing the weights (random)\n",
    "w_current = [-1,10,-50]\n",
    "\n",
    "\n",
    "# This w_target is only to plot the data points in a different marker and compare with w_current weight set to identify\n",
    "# the misclassified points\n",
    "w_target = [1,5,3]\n",
    "seed = 2\n",
    "\n",
    " \n",
    "# Define the parameters of your dataset and create iit\n",
    "dim = 2\n",
    "num = 20\n",
    "inputs = rand_gen(seed, num, dim)\n",
    "\n",
    "\n",
    "# plot the dataset alongwith the hypothesis function\n",
    "for i in range(0,len(inputs[0])):\n",
    "    var_x = np.array((1,inputs[0][i], inputs[1][i]))\n",
    "    rand_point = check_zone(var_x, dim, w)\n",
    "    if rand_point == 1:\n",
    "        plt.scatter(inputs[0][i],inputs[1][i],color='r',marker='^')\n",
    "    else:\n",
    "        plt.scatter(inputs[0][i], inputs[1][i],color='g', marker='o')\n",
    "\n",
    "weights  = w_target\n",
    "ylab = lab_gen(inputs,2, weights)\n",
    "# implement the PLA \n",
    "w_current, count = pla(inputs,dim, w_target, w_current,ylab)\n",
    "        \n",
    "print ('No. of iterations before convergence', count)        \n",
    "x1 = np.linspace(-4, 4, num=50)\n",
    "x2 = -(1+w_current[1]*x1)/w_current[2]\n",
    "x3 = np.linspace(-4, 4, num=50)\n",
    "x4 = -(1+w_target[1]*x1)/w_target[2]\n",
    "\n",
    "plt.plot(x1,x2,'b-',label='Hypothesis g') \n",
    "plt.plot(x3,x4,'y-',label='Target f')\n",
    "plt.ylim((-4,4))\n",
    "plt.xlim((-4,4))\n",
    "plt.xlabel('x1',fontsize='20')\n",
    "plt.ylabel('x2', fontsize='20')\n",
    "plt.legend(loc='lower right',fontsize='12')\n",
    "plt.savefig('2(c).png')\n",
    "plt.show()"
   ]
  },
  {
   "cell_type": "markdown",
   "metadata": {},
   "source": [
    "#### Here, we see that the g is much closer to f as compared to our earlier Dataset\n"
   ]
  },
  {
   "cell_type": "markdown",
   "metadata": {},
   "source": [
    "## Section (d) \n",
    "#### Now repeating everything in \"b\" with another randomly generated dataset of size 100 "
   ]
  },
  {
   "cell_type": "code",
   "execution_count": 17,
   "metadata": {},
   "outputs": [
    {
     "name": "stdout",
     "output_type": "stream",
     "text": [
      "No. of iterations before convergence 172\n"
     ]
    },
    {
     "data": {
      "image/png": "[encoded data removed]",
      "text/plain": [
       "<Figure size 432x288 with 1 Axes>"
      ]
     },
     "metadata": {
      "needs_background": "light"
     },
     "output_type": "display_data"
    }
   ],
   "source": [
    "# initializing the weights (random)\n",
    "w_current = [-1,10,-50]\n",
    "\n",
    "\n",
    "# This w_target is only to plot the data points in a different marker and compare with w_current weight set to identify\n",
    "# the misclassified points\n",
    "w_target = [1,5,3]\n",
    "seed = 2\n",
    "\n",
    " \n",
    "# Define the parameters of your dataset and create iit\n",
    "dim = 2\n",
    "num = 100\n",
    "inputs = rand_gen(seed, num, dim)\n",
    "\n",
    "\n",
    "# plot the dataset alongwith the hypothesis function\n",
    "for i in range(0,len(inputs[0])):\n",
    "    var_x = np.array((1,inputs[0][i], inputs[1][i]))\n",
    "    rand_point = check_zone(var_x, dim, w)\n",
    "    if rand_point == 1:\n",
    "        plt.scatter(inputs[0][i],inputs[1][i],color='r',marker='^')\n",
    "    else:\n",
    "        plt.scatter(inputs[0][i], inputs[1][i],color='g', marker='o')\n",
    "        \n",
    "        \n",
    "weights  = w_target\n",
    "ylab = lab_gen(inputs,2, weights)\n",
    "# implement the PLA \n",
    "w_current, count = pla(inputs,dim, w_target, w_current, ylab)\n",
    "        \n",
    "print ('No. of iterations before convergence', count)        \n",
    "x1 = np.linspace(-4, 4, num=50)\n",
    "x2 = -(1+w_current[1]*x1)/w_current[2]\n",
    "x3 = np.linspace(-4, 4, num=50)\n",
    "x4 = -(1+w_target[1]*x1)/w_target[2]\n",
    "\n",
    "plt.plot(x1,x2,'b-',label='Hypothesis g') \n",
    "plt.plot(x3,x4,'y-',label='Target f')\n",
    "plt.ylim((-4,4))\n",
    "plt.xlim((-4,4))\n",
    "plt.xlabel('x1',fontsize='20')\n",
    "plt.ylabel('x2', fontsize='20')\n",
    "plt.legend(loc='lower right',fontsize='12')\n",
    "plt.savefig('2(d).png')\n",
    "plt.show()"
   ]
  },
  {
   "cell_type": "markdown",
   "metadata": {},
   "source": [
    "#### Here, we see that the g is much closer to f as compared to our earlier Dataset\n",
    "\n",
    "### What I oberve is that as the datasize increses our hypothesis 'g' gets closer to the target function 'f'"
   ]
  },
  {
   "cell_type": "markdown",
   "metadata": {},
   "source": [
    "## Section (e) \n",
    "#### Now repeating everything in \"b\" with another randomly generated dataset of size 1000 "
   ]
  },
  {
   "cell_type": "code",
   "execution_count": 18,
   "metadata": {},
   "outputs": [
    {
     "name": "stdout",
     "output_type": "stream",
     "text": [
      "No. of iterations before convergence 21882\n"
     ]
    },
    {
     "data": {
      "image/png": "[encoded data removed]",
      "text/plain": [
       "<Figure size 432x288 with 1 Axes>"
      ]
     },
     "metadata": {
      "needs_background": "light"
     },
     "output_type": "display_data"
    }
   ],
   "source": [
    "# initializing the weights (random)\n",
    "w_current = [-1,10,-50]\n",
    "\n",
    "\n",
    "# This w_target is only to plot the data points in a different marker and compare with w_current weight set to identify\n",
    "# the misclassified points\n",
    "w_target = [1,5,3]\n",
    "seed = 2\n",
    "\n",
    " \n",
    "# Define the parameters of your dataset and create iit\n",
    "dim = 2\n",
    "num = 1000\n",
    "inputs = rand_gen(seed, num, dim)\n",
    "\n",
    "\n",
    "# plot the dataset alongwith the hypothesis function\n",
    "for i in range(0,len(inputs[0])):\n",
    "    var_x = np.array((1,inputs[0][i], inputs[1][i]))\n",
    "    rand_point = check_zone(var_x, dim, w)\n",
    "    if rand_point == 1:\n",
    "        plt.scatter(inputs[0][i],inputs[1][i],color='r',marker='^')\n",
    "    else:\n",
    "        plt.scatter(inputs[0][i], inputs[1][i],color='g', marker='o')\n",
    "\n",
    "        \n",
    "weights  = w_target\n",
    "ylab = lab_gen(inputs,2, weights)\n",
    "# implement the PLA \n",
    "w_current, count = pla(inputs,dim, w_target, w_current,ylab)\n",
    "        \n",
    "print ('No. of iterations before convergence', count)        \n",
    "x1 = np.linspace(-4, 4, num=50)\n",
    "x2 = -(1+w_current[1]*x1)/w_current[2]\n",
    "x3 = np.linspace(-4, 4, num=50)\n",
    "x4 = -(1+w_target[1]*x1)/w_target[2]\n",
    "\n",
    "plt.plot(x1,x2,'b-',label='Hypothesis g') \n",
    "plt.plot(x3,x4,'y-',label='Target f')\n",
    "plt.ylim((-4,4))\n",
    "plt.xlim((-4,4))\n",
    "plt.xlabel('x1',fontsize='20')\n",
    "plt.ylabel('x2', fontsize='20')\n",
    "plt.legend(loc='lower right',fontsize='12')\n",
    "plt.savefig('2(e).png')\n",
    "plt.show()"
   ]
  },
  {
   "cell_type": "markdown",
   "metadata": {},
   "source": [
    "#### Here, we see that the g is much closer to f as compared to our earlier Dataset\n",
    "\n",
    "### What I oberve is that as the datasize increses our hypothesis 'g' gets closer to the target function 'f'"
   ]
  },
  {
   "cell_type": "markdown",
   "metadata": {},
   "source": [
    "## Section (f) \n",
    "#### Now repeating everything in \"b\" with another randomly generated dataset of size 1000 in 10-d dimensional space"
   ]
  },
  {
   "cell_type": "code",
   "execution_count": 19,
   "metadata": {},
   "outputs": [
    {
     "name": "stdout",
     "output_type": "stream",
     "text": [
      "No. of iterations before convergence 432321\n"
     ]
    }
   ],
   "source": [
    " \n",
    "# Define the parameters of your dataset and create it\n",
    "dim = 10\n",
    "num = 1000\n",
    "inputs = rand_gen(seed, num, dim)\n",
    "\n",
    "#only to generate the orignal set of labels y_lab\n",
    "w_target = [1,5,3]\n",
    "\n",
    "# initializing the weights (random)\n",
    "w_current = [0] * (dim+1) #weights (10) and bias (1), so 10+1 = 11\n",
    "\n",
    "weights  = w_target\n",
    "ylab = lab_gen(inputs[0:2,:],2, weights)\n",
    "# implement the PLA \n",
    "w_current, count = pla(inputs,dim, w_target, w_current, ylab)\n",
    "        \n",
    "print ('No. of iterations before convergence', count)        \n"
   ]
  },
  {
   "cell_type": "markdown",
   "metadata": {},
   "source": [
    "## Section (g) \n",
    "#### Now repeating everything in \"f\" over 100 experiments and storing the number of iterations required in each experiment "
   ]
  },
  {
   "cell_type": "code",
   "execution_count": 72,
   "metadata": {},
   "outputs": [
    {
     "name": "stdout",
     "output_type": "stream",
     "text": [
      "No. of iterations before convergence 309050\n",
      "No. of iterations before convergence 249472\n",
      "No. of iterations before convergence 422606\n",
      "No. of iterations before convergence 377102\n",
      "No. of iterations before convergence 278676\n",
      "No. of iterations before convergence 361654\n",
      "No. of iterations before convergence 196543\n",
      "No. of iterations before convergence 600768\n",
      "No. of iterations before convergence 600101\n",
      "No. of iterations before convergence 513279\n",
      "No. of iterations before convergence 515218\n",
      "No. of iterations before convergence 165007\n",
      "No. of iterations before convergence 332897\n",
      "No. of iterations before convergence 423999\n",
      "No. of iterations before convergence 297317\n",
      "No. of iterations before convergence 503581\n",
      "No. of iterations before convergence 470112\n",
      "No. of iterations before convergence 430210\n",
      "No. of iterations before convergence 314526\n",
      "No. of iterations before convergence 525038\n",
      "No. of iterations before convergence 75970\n",
      "No. of iterations before convergence 505406\n",
      "No. of iterations before convergence 641989\n",
      "No. of iterations before convergence 440443\n",
      "No. of iterations before convergence 724867\n",
      "No. of iterations before convergence 380624\n",
      "No. of iterations before convergence 368096\n",
      "No. of iterations before convergence 255097\n",
      "No. of iterations before convergence 545833\n",
      "No. of iterations before convergence 278441\n",
      "No. of iterations before convergence 174915\n",
      "No. of iterations before convergence 35141\n",
      "No. of iterations before convergence 338251\n",
      "No. of iterations before convergence 628704\n",
      "No. of iterations before convergence 305055\n",
      "No. of iterations before convergence 371443\n",
      "No. of iterations before convergence 405231\n",
      "No. of iterations before convergence 354488\n",
      "No. of iterations before convergence 392373\n",
      "No. of iterations before convergence 582714\n",
      "No. of iterations before convergence 440787\n",
      "No. of iterations before convergence 468164\n",
      "No. of iterations before convergence 377138\n",
      "No. of iterations before convergence 443909\n",
      "No. of iterations before convergence 277535\n",
      "No. of iterations before convergence 620391\n",
      "No. of iterations before convergence 295345\n",
      "No. of iterations before convergence 284033\n",
      "No. of iterations before convergence 276142\n",
      "No. of iterations before convergence 452874\n",
      "No. of iterations before convergence 352913\n",
      "No. of iterations before convergence 432250\n",
      "No. of iterations before convergence 551465\n",
      "No. of iterations before convergence 414903\n",
      "No. of iterations before convergence 404620\n",
      "No. of iterations before convergence 232773\n",
      "No. of iterations before convergence 453328\n",
      "No. of iterations before convergence 520264\n",
      "No. of iterations before convergence 565429\n",
      "No. of iterations before convergence 187386\n",
      "No. of iterations before convergence 604892\n",
      "No. of iterations before convergence 381640\n",
      "No. of iterations before convergence 102275\n",
      "No. of iterations before convergence 312090\n",
      "No. of iterations before convergence 430848\n",
      "No. of iterations before convergence 623571\n",
      "No. of iterations before convergence 542536\n",
      "No. of iterations before convergence 394681\n",
      "No. of iterations before convergence 138110\n",
      "No. of iterations before convergence 262991\n",
      "No. of iterations before convergence 471715\n",
      "No. of iterations before convergence 659461\n",
      "No. of iterations before convergence 326321\n",
      "No. of iterations before convergence 288861\n",
      "No. of iterations before convergence 516891\n",
      "No. of iterations before convergence 286015\n",
      "No. of iterations before convergence 558829\n",
      "No. of iterations before convergence 417133\n",
      "No. of iterations before convergence 365619\n",
      "No. of iterations before convergence 675031\n",
      "No. of iterations before convergence 510131\n",
      "No. of iterations before convergence 326010\n",
      "No. of iterations before convergence 404466\n",
      "No. of iterations before convergence 449290\n",
      "No. of iterations before convergence 465834\n",
      "No. of iterations before convergence 373905\n",
      "No. of iterations before convergence 548106\n",
      "No. of iterations before convergence 393226\n",
      "No. of iterations before convergence 68768\n",
      "No. of iterations before convergence 776872\n",
      "No. of iterations before convergence 416882\n",
      "No. of iterations before convergence 313045\n",
      "No. of iterations before convergence 338999\n",
      "No. of iterations before convergence 553583\n",
      "No. of iterations before convergence 757821\n",
      "No. of iterations before convergence 330540\n",
      "No. of iterations before convergence 256912\n",
      "No. of iterations before convergence 130759\n",
      "No. of iterations before convergence 413758\n",
      "No. of iterations before convergence 340767\n"
     ]
    }
   ],
   "source": [
    "# Define the parameters of your dataset and create it\n",
    "\n",
    "dim = 10\n",
    "num = 1000\n",
    "inputs = rand_gen(seed, num, dim)\n",
    "\n",
    "count_hist = []\n",
    "#only to generate the orignal set of labels y_lab\n",
    "w_target = [1,5,3]\n",
    "\n",
    "for i in range(0,100):\n",
    "    # initializing the weights (random)\n",
    "    w_current = [0] * (dim+1) #weights (10) and bias (1), so 10+1 = 11\n",
    "\n",
    "    weights  = w_target\n",
    "    ylab = lab_gen(inputs[0:2,:],2, weights)\n",
    "    # implement the PLA \n",
    "    w_current, count = pla(inputs,dim, w_target, w_current, ylab)\n",
    "    count_hist.append(count)\n",
    "    print ('No. of iterations before convergence', count)   "
   ]
  },
  {
   "cell_type": "code",
   "execution_count": 73,
   "metadata": {},
   "outputs": [
    {
     "data": {
      "image/png": "[encoded data removed]",
      "text/plain": [
       "<Figure size 432x288 with 1 Axes>"
      ]
     },
     "metadata": {
      "needs_background": "light"
     },
     "output_type": "display_data"
    }
   ],
   "source": [
    "count_hist = np.array(count_hist)\n",
    "plt.hist(count_hist, bins=None, range=None, density=False,rwidth=0.7)\n",
    "plt.ylabel('Frequency')\n",
    "plt.xlabel('Iterations before convergence')\n",
    "plt.savefig('2(g).png')"
   ]
  },
  {
   "cell_type": "code",
   "execution_count": null,
   "metadata": {},
   "outputs": [],
   "source": []
  },
  {
   "cell_type": "markdown",
   "metadata": {},
   "source": [
    "## Section (h) \n",
    "#### I observe that both accuracy and time go up with N(sample size) and d(dimensionality)"
   ]
  },
  {
   "cell_type": "markdown",
   "metadata": {},
   "source": [
    "# Question 3"
   ]
  },
  {
   "cell_type": "code",
   "execution_count": 20,
   "metadata": {},
   "outputs": [],
   "source": [
    "def adaline(inputs,dim_of_inputs, w_target, w_current,y_lab, eta,max_iter):\n",
    "    \n",
    "    or_labels = y_lab\n",
    "    \n",
    "    \n",
    "    t = mis_class(w_current,inputs,dim_of_inputs, or_labels)\n",
    "    count = 0\n",
    "    i = 0\n",
    "    for i in range(0,max_iter):\n",
    "    #while len(t)!=0:\n",
    "        \n",
    "        r = np.random.randint(0,len(inputs[0])) # Pick up a random point in our dataset D\n",
    "        var_xp = np.hstack((1,inputs[:,r]))\n",
    "        if or_labels[r]*np.sign(np.dot(w_current,var_xp)) < 1:\n",
    "            w_current = w_current + (eta * (or_labels[r]*np.sign(np.dot(w_current,var_xp))) * var_xp)\n",
    "        count+=1\n",
    "        if len(t)==0:\n",
    "            break\n",
    "        t = mis_class(w_current,inputs,dim_of_inputs,or_labels)\n",
    "        #print (w_current)\n",
    "    return(w_current,count)\n",
    "   "
   ]
  },
  {
   "cell_type": "code",
   "execution_count": 21,
   "metadata": {},
   "outputs": [],
   "source": [
    "def error(test, w_current, ylab,dim_of_inputs,num_of_inputs):\n",
    "    weights = w_current\n",
    "    q=0\n",
    "    for i in range(0,len(test[0])):\n",
    "        var_xp = np.hstack((1,test[:,i]))\n",
    "        y_pred = np.sign(np.dot(weights,var_xp ))\n",
    "        if y_pred == 0:\n",
    "            y_pred = -1\n",
    "        if y_pred == ylab[i]:\n",
    "            q+=1\n",
    "        #print(q)\n",
    "    #print (q)\n",
    "    err = 1 - (q/num_of_inputs)      \n",
    "    return(err)\n",
    "    "
   ]
  },
  {
   "cell_type": "markdown",
   "metadata": {},
   "source": [
    "## Section a,    eta = 100"
   ]
  },
  {
   "cell_type": "code",
   "execution_count": 22,
   "metadata": {},
   "outputs": [
    {
     "name": "stdout",
     "output_type": "stream",
     "text": [
      "Test error 0.734\n",
      "No. of iterations before convergence 1000\n"
     ]
    },
    {
     "data": {
      "image/png": "[encoded data removed]",
      "text/plain": [
       "<Figure size 432x288 with 1 Axes>"
      ]
     },
     "metadata": {
      "needs_background": "light"
     },
     "output_type": "display_data"
    }
   ],
   "source": [
    "# initializing the weights (random)\n",
    "w_current = [-1,10,-50]\n",
    "\n",
    "\n",
    "# This w_target is only to plot the data points in a different marker and compare with w_current weight set to identify\n",
    "# the misclassified points\n",
    "w_target = [1,5,3]\n",
    "seed = 0\n",
    "\n",
    "\n",
    "\n",
    "#generating a training set\n",
    "dim = 2\n",
    "num_train = 100\n",
    "seed = 0\n",
    "train = rand_gen(seed, num_train, dim)\n",
    "\n",
    "# generating a test set\n",
    "dim = 2\n",
    "num = 10000\n",
    "seed = 0\n",
    "test = rand_gen(seed, num, dim)\n",
    "\n",
    "\n",
    "\n",
    "# plot the training dataset alongwith the hypothesis function\n",
    "for i in range(0,len(train[0])):\n",
    "    var_x = np.array((1,train[0][i], train[1][i]))\n",
    "    rand_point = check_zone(var_x, dim, w_target)\n",
    "    if rand_point == 1:\n",
    "        plt.scatter(train[0][i],train[1][i],color='r',marker='^')\n",
    "    else:\n",
    "        plt.scatter(train[0][i], train[1][i],color='g', marker='o')\n",
    "\n",
    "        \n",
    "weights  = w_target\n",
    "ylab = lab_gen(train,2, weights)\n",
    "eta = 100\n",
    "max_iter = 1000\n",
    "# implement the PLA \n",
    "w_current, count = adaline(train,dim, w_target, w_current,ylab,eta,max_iter)\n",
    "ylab = lab_gen(test,2, weights)\n",
    "test_error = error(test, w_current, ylab, dim, num)\n",
    "print('Test error', test_error)\n",
    "print ('No. of iterations before convergence', count)        \n",
    "x1 = np.linspace(-4, 4, num=50)\n",
    "x2 = -(1+w_current[1]*x1)/w_current[2]\n",
    "x3 = np.linspace(-4, 4, num=50)\n",
    "x4 = -(1+w_target[1]*x1)/w_target[2]\n",
    "\n",
    "plt.plot(x1,x2,'b-',label='Hypothesis g') \n",
    "plt.plot(x3,x4,'y-',label='Target f')\n",
    "plt.ylim((-4,4))\n",
    "plt.xlim((-4,4))\n",
    "plt.xlabel('x1',fontsize='20')\n",
    "plt.ylabel('x2', fontsize='20')\n",
    "plt.legend(loc='lower right',fontsize='12')\n",
    "plt.savefig('3(a).png')\n",
    "plt.show()"
   ]
  },
  {
   "cell_type": "markdown",
   "metadata": {},
   "source": [
    "## Section b,    eta = 1"
   ]
  },
  {
   "cell_type": "code",
   "execution_count": 23,
   "metadata": {},
   "outputs": [
    {
     "name": "stdout",
     "output_type": "stream",
     "text": [
      "Test error 0.7389\n",
      "No. of iterations before convergence 1000\n"
     ]
    },
    {
     "data": {
      "image/png": "[encoded data removed]",
      "text/plain": [
       "<Figure size 432x288 with 1 Axes>"
      ]
     },
     "metadata": {
      "needs_background": "light"
     },
     "output_type": "display_data"
    }
   ],
   "source": [
    "# initializing the weights (random)\n",
    "w_current = [-1,10,-50]\n",
    "\n",
    "\n",
    "# This w_target is only to plot the data points in a different marker and compare with w_current weight set to identify\n",
    "# the misclassified points\n",
    "w_target = [1,5,3]\n",
    "seed = 0\n",
    "\n",
    "\n",
    "\n",
    "#generating a training set\n",
    "dim = 2\n",
    "num_train = 100\n",
    "seed = 0\n",
    "train = rand_gen(seed, num_train, dim)\n",
    "\n",
    "# generating a test set\n",
    "dim = 2\n",
    "num = 10000\n",
    "seed = 0\n",
    "test = rand_gen(seed, num, dim)\n",
    "\n",
    "\n",
    "\n",
    "# plot the training dataset alongwith the hypothesis function\n",
    "for i in range(0,len(train[0])):\n",
    "    var_x = np.array((1,train[0][i], train[1][i]))\n",
    "    rand_point = check_zone(var_x, dim, w_target)\n",
    "    if rand_point == 1:\n",
    "        plt.scatter(train[0][i],train[1][i],color='r',marker='^')\n",
    "    else:\n",
    "        plt.scatter(train[0][i], train[1][i],color='g', marker='o')\n",
    "\n",
    "        \n",
    "weights  = w_target\n",
    "ylab = lab_gen(train,2, weights)\n",
    "eta = 1\n",
    "max_iter = 1000\n",
    "# implement the PLA \n",
    "w_current, count = adaline(train,dim, w_target, w_current,ylab,eta, max_iter)\n",
    "ylab = lab_gen(test,2, weights)\n",
    "test_error = error(test, w_current, ylab, dim, num)\n",
    "print('Test error', test_error)        \n",
    "print ('No. of iterations before convergence', count)        \n",
    "x1 = np.linspace(-4, 4, num=50)\n",
    "x2 = -(1+w_current[1]*x1)/w_current[2]\n",
    "x3 = np.linspace(-4, 4, num=50)\n",
    "x4 = -(1+w_target[1]*x1)/w_target[2]\n",
    "\n",
    "plt.plot(x1,x2,'b-',label='Hypothesis g') \n",
    "plt.plot(x3,x4,'y-',label='Target f')\n",
    "plt.ylim((-4,4))\n",
    "plt.xlim((-4,4))\n",
    "plt.xlabel('x1',fontsize='20')\n",
    "plt.ylabel('x2', fontsize='20')\n",
    "plt.legend(loc='lower right',fontsize='12')\n",
    "plt.savefig('3(b).png')\n",
    "plt.show()"
   ]
  },
  {
   "cell_type": "markdown",
   "metadata": {},
   "source": [
    "## Section c,    eta = 0.01"
   ]
  },
  {
   "cell_type": "code",
   "execution_count": 24,
   "metadata": {},
   "outputs": [
    {
     "name": "stdout",
     "output_type": "stream",
     "text": [
      "Test error 0.6066\n",
      "No. of iterations before convergence 1000\n"
     ]
    },
    {
     "data": {
      "image/png": "[encoded data removed]",
      "text/plain": [
       "<Figure size 432x288 with 1 Axes>"
      ]
     },
     "metadata": {
      "needs_background": "light"
     },
     "output_type": "display_data"
    }
   ],
   "source": [
    "# initializing the weights (random)\n",
    "w_current = [-1,10,-50]\n",
    "\n",
    "\n",
    "# This w_target is only to plot the data points in a different marker and compare with w_current weight set to identify\n",
    "# the misclassified points\n",
    "w_target = [1,5,3]\n",
    "seed = 0\n",
    "\n",
    "\n",
    "\n",
    "#generating a training set\n",
    "dim = 2\n",
    "num_train = 100\n",
    "seed = 0\n",
    "train = rand_gen(seed, num_train, dim)\n",
    "\n",
    "# generating a test set\n",
    "dim = 2\n",
    "num = 10000\n",
    "seed = 0\n",
    "test = rand_gen(seed, num, dim)\n",
    "\n",
    "\n",
    "\n",
    "# plot the training dataset alongwith the hypothesis function\n",
    "for i in range(0,len(train[0])):\n",
    "    var_x = np.array((1,train[0][i], train[1][i]))\n",
    "    rand_point = check_zone(var_x, dim, w_target)\n",
    "    if rand_point == 1:\n",
    "        plt.scatter(train[0][i],train[1][i],color='r',marker='^')\n",
    "    else:\n",
    "        plt.scatter(train[0][i], train[1][i],color='g', marker='o')\n",
    "\n",
    "        \n",
    "weights  = w_target\n",
    "ylab = lab_gen(train,2, weights)\n",
    "eta = 0.01\n",
    "max_iter = 1000\n",
    "# implement the PLA \n",
    "w_current, count = adaline(train,dim, w_target, w_current,ylab,eta,max_iter)\n",
    "ylab = lab_gen(test,2, weights)\n",
    "test_error = error(test, w_current, ylab, dim, num) \n",
    "print('Test error', test_error)\n",
    "print ('No. of iterations before convergence', count)        \n",
    "x1 = np.linspace(-4, 4, num=50)\n",
    "x2 = -(1+w_current[1]*x1)/w_current[2]\n",
    "x3 = np.linspace(-4, 4, num=50)\n",
    "x4 = -(1+w_target[1]*x1)/w_target[2]\n",
    "\n",
    "plt.plot(x1,x2,'b-',label='Hypothesis g') \n",
    "plt.plot(x3,x4,'y-',label='Target f')\n",
    "plt.ylim((-4,4))\n",
    "plt.xlim((-4,4))\n",
    "plt.xlabel('x1',fontsize='20')\n",
    "plt.ylabel('x2', fontsize='20')\n",
    "plt.legend(loc='lower right',fontsize='12')\n",
    "plt.savefig('3(c).png')\n",
    "plt.show()"
   ]
  },
  {
   "cell_type": "markdown",
   "metadata": {},
   "source": [
    "## Section d,    eta = 0.0001"
   ]
  },
  {
   "cell_type": "code",
   "execution_count": 25,
   "metadata": {},
   "outputs": [
    {
     "name": "stdout",
     "output_type": "stream",
     "text": [
      "Test error 0.6065\n",
      "No. of iterations before convergence 1000\n"
     ]
    },
    {
     "data": {
      "image/png": "[encoded data removed]",
      "text/plain": [
       "<Figure size 432x288 with 1 Axes>"
      ]
     },
     "metadata": {
      "needs_background": "light"
     },
     "output_type": "display_data"
    }
   ],
   "source": [
    "# initializing the weights (random)\n",
    "w_current = [-1,10,-50]\n",
    "\n",
    "\n",
    "# This w_target is only to plot the data points in a different marker and compare with w_current weight set to identify\n",
    "# the misclassified points\n",
    "w_target = [1,5,3]\n",
    "seed = 0\n",
    "\n",
    "\n",
    "\n",
    "#generating a training set\n",
    "dim = 2\n",
    "num_train = 100\n",
    "seed = 0\n",
    "train = rand_gen(seed, num_train, dim)\n",
    "\n",
    "# generating a test set\n",
    "dim = 2\n",
    "num = 10000\n",
    "seed = 0\n",
    "test = rand_gen(seed, num, dim)\n",
    "\n",
    "\n",
    "\n",
    "# plot the training dataset alongwith the hypothesis function\n",
    "for i in range(0,len(train[0])):\n",
    "    var_x = np.array((1,train[0][i], train[1][i]))\n",
    "    rand_point = check_zone(var_x, dim, w_target)\n",
    "    if rand_point == 1:\n",
    "        plt.scatter(train[0][i],train[1][i],color='r',marker='^')\n",
    "    else:\n",
    "        plt.scatter(train[0][i], train[1][i],color='g', marker='o')\n",
    "\n",
    "        \n",
    "weights  = w_target\n",
    "ylab = lab_gen(train,2, weights)\n",
    "eta = 0.0001\n",
    "max_iter = 1000\n",
    "# implement the PLA \n",
    "w_current, count = adaline(train,dim, w_target, w_current,ylab,eta, max_iter)\n",
    "ylab = lab_gen(test,2, weights)\n",
    "test_error = error(test, w_current, ylab, dim, num) \n",
    "print('Test error', test_error)        \n",
    "print ('No. of iterations before convergence', count)        \n",
    "x1 = np.linspace(-4, 4, num=50)\n",
    "x2 = -(1+w_current[1]*x1)/w_current[2]\n",
    "x3 = np.linspace(-4, 4, num=50)\n",
    "x4 = -(1+w_target[1]*x1)/w_target[2]\n",
    "\n",
    "plt.plot(x1,x2,'b-',label='Hypothesis g') \n",
    "plt.plot(x3,x4,'y-',label='Target f')\n",
    "plt.ylim((-4,4))\n",
    "plt.xlim((-4,4))\n",
    "plt.xlabel('x1',fontsize='20')\n",
    "plt.ylabel('x2', fontsize='20')\n",
    "plt.legend(loc='lower right',fontsize='12')\n",
    "plt.savefig('3(d).png')\n",
    "plt.show()"
   ]
  },
  {
   "cell_type": "markdown",
   "metadata": {},
   "source": [
    "## Section e\n",
    "#### What I oserve is that with lower eta the error goes down. This is due to that fact that there are slow\n",
    "#### updates when eta is low"
   ]
  },
  {
   "cell_type": "markdown",
   "metadata": {},
   "source": [
    "# Question 4"
   ]
  },
  {
   "cell_type": "code",
   "execution_count": 26,
   "metadata": {},
   "outputs": [],
   "source": [
    "# defining a rectangle that would include the upper disc with \n",
    "# x dimension 0 to 2(rad+thk) and \n",
    "# y dimension 0 to (rad+thk)\n",
    "rad = 10\n",
    "thk = 5\n",
    "sep = 5\n",
    "num_of_inputs = 2300 # number set to generate 1000 points in our +1 labelled data\n",
    "pos_x_u = np.around(2*(rad+thk) * np.random.random_sample(( num_of_inputs)) + 0, decimals=2)\n",
    "pos_y_u = np.around((rad+thk) * np.random.random_sample(( num_of_inputs)) + 0, decimals=2)\n",
    "\n",
    "# selecting only the points that fall under the upper disc\n",
    "for i in range(0,num_of_inputs):\n",
    "    d = np.sqrt((pos_x_u[i] - (rad+thk))**2 + (pos_y_u[i] - 0)**2)\n",
    "    if d <= (rad+thk) and d >= rad:\n",
    "        continue\n",
    "    else:\n",
    "        \n",
    "        pos_x_u[i] = 100*(rad+thk) # some number outside the rectangle. This is done to delete it later\n",
    "        pos_y_u[i] = 100*(rad+thk) # some number outside the rectangle. This is done to delete it later\n",
    "       \n",
    "pos_x_u = pos_x_u[pos_x_u!= 100*(rad+thk)]\n",
    "pos_y_u = pos_y_u[pos_y_u!= 100*(rad+thk)]\n",
    "               \n",
    "    "
   ]
  },
  {
   "cell_type": "code",
   "execution_count": 29,
   "metadata": {},
   "outputs": [],
   "source": [
    "# defining a rectangle that would include the lower disc with \n",
    "# x dimension (rad+(thk/2)) to (3rad+(5/2)*thk) and\n",
    "# y dimension  -(sep+rad+thk) to -(sep) \n",
    "\n",
    "rad = 10\n",
    "thk = 5\n",
    "sep = 5\n",
    "num_of_inputs = 2300 # number set to generate 1000 points in our -1 labelled data\n",
    "pos_x_l = np.around(2*(rad+thk) * np.random.random_sample(( num_of_inputs)) + rad+(thk/2), decimals=2)\n",
    "pos_y_l = np.around((rad+thk) * np.random.random_sample(( num_of_inputs)) - (sep+rad+thk), decimals=2)\n",
    "\n",
    "# selecting only the points that fall under the lower disc\n",
    "\n",
    "for i in range(0,num_of_inputs):\n",
    "    d = np.sqrt((pos_x_l[i] - (2*rad+(3/2)*thk))**2 + (pos_y_l[i] + sep)**2)\n",
    "    if d <= (rad+thk) and d >= rad:\n",
    "        continue\n",
    "    else:\n",
    "        \n",
    "        pos_x_l[i] = 100*(rad+thk) # some number outside the rectangle. This is done to delete it later\n",
    "        pos_y_l[i] = 100*(rad+thk) # some number outside the rectangle. This is done to delete it later\n",
    "       \n",
    "pos_x_l = pos_x_l[pos_x_l!= 100*(rad+thk)]\n",
    "pos_y_l = pos_y_l[pos_y_l!= 100*(rad+thk)]\n",
    "    "
   ]
  },
  {
   "cell_type": "code",
   "execution_count": 30,
   "metadata": {},
   "outputs": [
    {
     "data": {
      "image/png": "[encoded data removed]",
      "text/plain": [
       "<Figure size 432x288 with 1 Axes>"
      ]
     },
     "metadata": {
      "needs_background": "light"
     },
     "output_type": "display_data"
    }
   ],
   "source": [
    "# plotting  our dataset\n",
    "plt.scatter(pos_x_u,pos_y_u)\n",
    "plt.scatter(pos_x_l,pos_y_l)\n",
    "plt.show()"
   ]
  },
  {
   "cell_type": "code",
   "execution_count": 31,
   "metadata": {},
   "outputs": [],
   "source": [
    "# Stacking our data\n",
    "pos_x = np.hstack((pos_x_l,pos_x_u))\n",
    "pos_y = np.hstack((pos_y_l,pos_y_u))\n",
    "pos = np.vstack((pos_x,pos_y))\n",
    "\n",
    "pos_label_u = np.ones(len(pos_x_u))\n",
    "pos_label_l = -np.ones(len(pos_x_l))\n",
    "pos_label = np.hstack((pos_label_l,pos_label_u))"
   ]
  },
  {
   "cell_type": "markdown",
   "metadata": {},
   "source": [
    "## Section a, using PLA"
   ]
  },
  {
   "cell_type": "code",
   "execution_count": 33,
   "metadata": {},
   "outputs": [
    {
     "name": "stdout",
     "output_type": "stream",
     "text": [
      "No. of iterations before convergence 2465\n"
     ]
    },
    {
     "data": {
      "image/png": "[encoded data removed]",
      "text/plain": [
       "<Figure size 432x288 with 1 Axes>"
      ]
     },
     "metadata": {
      "needs_background": "light"
     },
     "output_type": "display_data"
    }
   ],
   "source": [
    "dim = 2\n",
    "w_target = [1,5,3]\n",
    "w_current = [0]* (dim+1)\n",
    "eta = 5\n",
    "\n",
    "w_current, count = pla(pos,dim, w_target, w_current,pos_label)\n",
    "\n",
    "print ('No. of iterations before convergence', count)        \n",
    "x1 = np.linspace(-1, 50, num=50)\n",
    "x2 = -(w_current[0]+w_current[1]*x1)/w_current[2]\n",
    "\n",
    "\n",
    "plt.plot(x1,x2,'g-',label='Hypothesis g',linewidth=2) \n",
    "\n",
    "#plt.ylim((-4,4))\n",
    "#plt.xlim((-4,4))\n",
    "plt.xlabel('x',fontsize='20')\n",
    "plt.ylabel('y', fontsize='20')\n",
    "plt.legend(loc='lower right',fontsize='12')\n",
    "plt.scatter(pos_x_u,pos_y_u)\n",
    "plt.scatter(pos_x_l,pos_y_l)\n",
    "plt.savefig('4(a).png')\n",
    "plt.show()"
   ]
  },
  {
   "cell_type": "markdown",
   "metadata": {},
   "source": [
    "## Section b, using linear regression for classification"
   ]
  },
  {
   "cell_type": "code",
   "execution_count": 34,
   "metadata": {},
   "outputs": [],
   "source": [
    "w_current = [0] * (dim+1)\n",
    "X = np.hstack((np.ones((len(pos[0]),1)),pos.T))\n",
    "y = pos_label\n"
   ]
  },
  {
   "cell_type": "code",
   "execution_count": 35,
   "metadata": {},
   "outputs": [],
   "source": [
    "# Function taken from David Ziganto from the following blog post link: \n",
    "# https://dziganto.github.io/data%20science/linear%20regression/machine%20learning/python/Linear-Regression-101-Basics/\n",
    "def lin_reg_weight(X,y):    \n",
    "    xtx = np.dot(X.T, X) ## x-transpose times x\n",
    "    inv_xtx = np.linalg.inv(xtx) ## inverse of x-transpose times x\n",
    "    xty = np.dot(X.T, y) ## x-transpose times y\n",
    "    return np.dot(inv_xtx, xty)"
   ]
  },
  {
   "cell_type": "code",
   "execution_count": 37,
   "metadata": {},
   "outputs": [
    {
     "data": {
      "image/png": "[encoded data removed]",
      "text/plain": [
       "<Figure size 432x288 with 1 Axes>"
      ]
     },
     "metadata": {
      "needs_background": "light"
     },
     "output_type": "display_data"
    }
   ],
   "source": [
    "x1 = np.linspace(-1, 50, num=50)\n",
    "#X = np.c_[np.ones(X.shape[0]), X]\n",
    "w_current = lin_reg_weight(X,y)\n",
    "x2 = -(w_current[0]+w_current[1]*x1)/w_current[2]\n",
    "\n",
    "\n",
    "plt.plot(x1,x2,'g-',label='Hypothesis g',linewidth=2) \n",
    "\n",
    "#plt.ylim((-4,4))\n",
    "#plt.xlim((-4,4))\n",
    "plt.xlabel('x',fontsize='20')\n",
    "plt.ylabel('y', fontsize='20')\n",
    "plt.legend(loc='lower right',fontsize='12')\n",
    "plt.scatter(pos_x_u,pos_y_u)\n",
    "plt.scatter(pos_x_l,pos_y_l)\n",
    "plt.savefig('4(b).png')\n",
    "plt.show()\n"
   ]
  },
  {
   "cell_type": "markdown",
   "metadata": {},
   "source": [
    "#### I observe that the linear regression model takes into account the fartherness of the points since it \n",
    "#### is based on the ordinary least squares. The PLA just converges the moment all the misclassifications are \n",
    "#### addressed."
   ]
  },
  {
   "cell_type": "markdown",
   "metadata": {},
   "source": [
    "# Question 5"
   ]
  },
  {
   "cell_type": "code",
   "execution_count": 38,
   "metadata": {},
   "outputs": [],
   "source": [
    "# defining a rectangle that would include the upper disc with \n",
    "# x dimension 0 to 2(rad+thk) and \n",
    "# y dimension 0 to (rad+thk)\n",
    "rad = 10\n",
    "thk = 5\n",
    "sep = -5\n",
    "num_of_inputs = 2300 # number set to generate 1000 points in our +1 labelled data\n",
    "pos_x_u = np.around(2*(rad+thk) * np.random.random_sample(( num_of_inputs)) + 0, decimals=2)\n",
    "pos_y_u = np.around((rad+thk) * np.random.random_sample(( num_of_inputs)) + 0, decimals=2)\n",
    "\n",
    "# selecting only the points that fall under the upper disc\n",
    "for i in range(0,num_of_inputs):\n",
    "    d = np.sqrt((pos_x_u[i] - (rad+thk))**2 + (pos_y_u[i] - 0)**2)\n",
    "    if d <= (rad+thk) and d >= rad:\n",
    "        continue\n",
    "    else:\n",
    "        \n",
    "        pos_x_u[i] = 100*(rad+thk) # some number outside the rectangle. This is done to delete it later\n",
    "        pos_y_u[i] = 100*(rad+thk) # some number outside the rectangle. This is done to delete it later\n",
    "       \n",
    "pos_x_u = pos_x_u[pos_x_u!= 100*(rad+thk)]\n",
    "pos_y_u = pos_y_u[pos_y_u!= 100*(rad+thk)]\n",
    "             "
   ]
  },
  {
   "cell_type": "code",
   "execution_count": 39,
   "metadata": {},
   "outputs": [],
   "source": [
    "# defining a rectangle that would include the lower disc with \n",
    "# x dimension (rad+(thk/2)) to (3rad+(5/2)*thk) and\n",
    "# y dimension  -(sep+rad+thk) to -(sep) \n",
    "\n",
    "rad = 10\n",
    "thk = 5\n",
    "sep = -5\n",
    "num_of_inputs = 2300 # number set to generate 1000 points in our -1 labelled data\n",
    "pos_x_l = np.around(2*(rad+thk) * np.random.random_sample(( num_of_inputs)) + rad+(thk/2), decimals=2)\n",
    "pos_y_l = np.around((rad+thk) * np.random.random_sample(( num_of_inputs)) - (sep+rad+thk), decimals=2)\n",
    "\n",
    "# selecting only the points that fall under the lower disc\n",
    "\n",
    "for i in range(0,num_of_inputs):\n",
    "    d = np.sqrt((pos_x_l[i] - (2*rad+(3/2)*thk))**2 + (pos_y_l[i] + sep)**2)\n",
    "    if d <= (rad+thk) and d >= rad:\n",
    "        continue\n",
    "    else:\n",
    "        \n",
    "        pos_x_l[i] = 100*(rad+thk) # some number outside the rectangle. This is done to delete it later\n",
    "        pos_y_l[i] = 100*(rad+thk) # some number outside the rectangle. This is done to delete it later\n",
    "       \n",
    "pos_x_l = pos_x_l[pos_x_l!= 100*(rad+thk)]\n",
    "pos_y_l = pos_y_l[pos_y_l!= 100*(rad+thk)]"
   ]
  },
  {
   "cell_type": "code",
   "execution_count": 40,
   "metadata": {},
   "outputs": [
    {
     "data": {
      "image/png": "[encoded data removed]",
      "text/plain": [
       "<Figure size 432x288 with 1 Axes>"
      ]
     },
     "metadata": {
      "needs_background": "light"
     },
     "output_type": "display_data"
    }
   ],
   "source": [
    "# plotting  our dataset\n",
    "plt.scatter(pos_x_u,pos_y_u)\n",
    "plt.scatter(pos_x_l,pos_y_l)\n",
    "plt.show()"
   ]
  },
  {
   "cell_type": "code",
   "execution_count": 41,
   "metadata": {},
   "outputs": [],
   "source": [
    "# Stacking our data\n",
    "pos_x = np.hstack((pos_x_l,pos_x_u))\n",
    "pos_y = np.hstack((pos_y_l,pos_y_u))\n",
    "pos = np.vstack((pos_x,pos_y))\n",
    "\n",
    "pos_label_u = np.ones(len(pos_x_u))\n",
    "pos_label_l = -np.ones(len(pos_x_l))\n",
    "pos_label = np.hstack((pos_label_l,pos_label_u))\n"
   ]
  },
  {
   "cell_type": "markdown",
   "metadata": {},
   "source": [
    "## Section 5 a, implementing PLA"
   ]
  },
  {
   "cell_type": "code",
   "execution_count": 40,
   "metadata": {},
   "outputs": [
    {
     "ename": "KeyboardInterrupt",
     "evalue": "",
     "output_type": "error",
     "traceback": [
      "\u001b[0;31m---------------------------------------------------------------------------\u001b[0m",
      "\u001b[0;31mKeyboardInterrupt\u001b[0m                         Traceback (most recent call last)",
      "\u001b[0;32m<ipython-input-40-2122735d640a>\u001b[0m in \u001b[0;36m<module>\u001b[0;34m\u001b[0m\n\u001b[1;32m      4\u001b[0m \u001b[0meta\u001b[0m \u001b[0;34m=\u001b[0m \u001b[0;36m1\u001b[0m\u001b[0;34m\u001b[0m\u001b[0;34m\u001b[0m\u001b[0m\n\u001b[1;32m      5\u001b[0m \u001b[0;34m\u001b[0m\u001b[0m\n\u001b[0;32m----> 6\u001b[0;31m \u001b[0mw_current\u001b[0m\u001b[0;34m,\u001b[0m \u001b[0mcount\u001b[0m \u001b[0;34m=\u001b[0m \u001b[0mpla\u001b[0m\u001b[0;34m(\u001b[0m\u001b[0mpos\u001b[0m\u001b[0;34m,\u001b[0m\u001b[0mdim\u001b[0m\u001b[0;34m,\u001b[0m \u001b[0mw_target\u001b[0m\u001b[0;34m,\u001b[0m \u001b[0mw_current\u001b[0m\u001b[0;34m,\u001b[0m\u001b[0mpos_label\u001b[0m\u001b[0;34m)\u001b[0m\u001b[0;34m\u001b[0m\u001b[0;34m\u001b[0m\u001b[0m\n\u001b[0m\u001b[1;32m      7\u001b[0m \u001b[0;34m\u001b[0m\u001b[0m\n\u001b[1;32m      8\u001b[0m \u001b[0mprint\u001b[0m \u001b[0;34m(\u001b[0m\u001b[0;34m'No. of iterations before convergence'\u001b[0m\u001b[0;34m,\u001b[0m \u001b[0mcount\u001b[0m\u001b[0;34m)\u001b[0m\u001b[0;34m\u001b[0m\u001b[0;34m\u001b[0m\u001b[0m\n",
      "\u001b[0;32m<ipython-input-7-230888d4ce2d>\u001b[0m in \u001b[0;36mpla\u001b[0;34m(inputs, dim_of_inputs, w_target, w_current, y_lab)\u001b[0m\n\u001b[1;32m     15\u001b[0m \u001b[0;34m\u001b[0m\u001b[0m\n\u001b[1;32m     16\u001b[0m         \u001b[0mcount\u001b[0m\u001b[0;34m+=\u001b[0m \u001b[0;36m1\u001b[0m\u001b[0;34m\u001b[0m\u001b[0;34m\u001b[0m\u001b[0m\n\u001b[0;32m---> 17\u001b[0;31m         \u001b[0mt\u001b[0m \u001b[0;34m=\u001b[0m \u001b[0mmis_class\u001b[0m\u001b[0;34m(\u001b[0m\u001b[0mw_current\u001b[0m\u001b[0;34m,\u001b[0m\u001b[0minputs\u001b[0m\u001b[0;34m,\u001b[0m\u001b[0mdim_of_inputs\u001b[0m\u001b[0;34m,\u001b[0m\u001b[0mor_labels\u001b[0m\u001b[0;34m)\u001b[0m\u001b[0;34m\u001b[0m\u001b[0;34m\u001b[0m\u001b[0m\n\u001b[0m\u001b[1;32m     18\u001b[0m         \u001b[0;31m#print (w_current)\u001b[0m\u001b[0;34m\u001b[0m\u001b[0;34m\u001b[0m\u001b[0;34m\u001b[0m\u001b[0m\n\u001b[1;32m     19\u001b[0m     \u001b[0;32mreturn\u001b[0m\u001b[0;34m(\u001b[0m\u001b[0mw_current\u001b[0m\u001b[0;34m,\u001b[0m\u001b[0mcount\u001b[0m\u001b[0;34m)\u001b[0m\u001b[0;34m\u001b[0m\u001b[0;34m\u001b[0m\u001b[0m\n",
      "\u001b[0;32m<ipython-input-6-6227efcaf49b>\u001b[0m in \u001b[0;36mmis_class\u001b[0;34m(w_current, inputs, dim_of_inputs, y_lab)\u001b[0m\n\u001b[1;32m      3\u001b[0m     \u001b[0;31m#print (w_current)\u001b[0m\u001b[0;34m\u001b[0m\u001b[0;34m\u001b[0m\u001b[0;34m\u001b[0m\u001b[0m\n\u001b[1;32m      4\u001b[0m     \u001b[0mlabels_target\u001b[0m \u001b[0;34m=\u001b[0m \u001b[0my_lab\u001b[0m\u001b[0;34m\u001b[0m\u001b[0;34m\u001b[0m\u001b[0m\n\u001b[0;32m----> 5\u001b[0;31m     \u001b[0mlabels_current\u001b[0m\u001b[0;34m,\u001b[0m\u001b[0mdf\u001b[0m \u001b[0;34m=\u001b[0m \u001b[0my_pred\u001b[0m\u001b[0;34m(\u001b[0m\u001b[0minputs\u001b[0m\u001b[0;34m,\u001b[0m \u001b[0mdim_of_inputs\u001b[0m\u001b[0;34m,\u001b[0m \u001b[0mw_current\u001b[0m\u001b[0;34m)\u001b[0m\u001b[0;34m\u001b[0m\u001b[0;34m\u001b[0m\u001b[0m\n\u001b[0m\u001b[1;32m      6\u001b[0m \u001b[0;34m\u001b[0m\u001b[0m\n\u001b[1;32m      7\u001b[0m     \u001b[0;32mfor\u001b[0m \u001b[0mr\u001b[0m \u001b[0;32min\u001b[0m \u001b[0mrange\u001b[0m\u001b[0;34m(\u001b[0m\u001b[0;36m0\u001b[0m\u001b[0;34m,\u001b[0m\u001b[0mlen\u001b[0m\u001b[0;34m(\u001b[0m\u001b[0mlabels_target\u001b[0m\u001b[0;34m)\u001b[0m\u001b[0;34m)\u001b[0m\u001b[0;34m:\u001b[0m\u001b[0;34m\u001b[0m\u001b[0;34m\u001b[0m\u001b[0m\n",
      "\u001b[0;32m<ipython-input-5-e91475b2b278>\u001b[0m in \u001b[0;36my_pred\u001b[0;34m(inputs, dim_of_inputs, weights)\u001b[0m\n\u001b[1;32m      3\u001b[0m     \u001b[0my_pred\u001b[0m \u001b[0;34m=\u001b[0m \u001b[0mnp\u001b[0m\u001b[0;34m.\u001b[0m\u001b[0msign\u001b[0m\u001b[0;34m(\u001b[0m\u001b[0mnp\u001b[0m\u001b[0;34m.\u001b[0m\u001b[0mdot\u001b[0m\u001b[0;34m(\u001b[0m\u001b[0mweights\u001b[0m\u001b[0;34m,\u001b[0m \u001b[0minputsi\u001b[0m\u001b[0;34m)\u001b[0m\u001b[0;34m)\u001b[0m\u001b[0;34m\u001b[0m\u001b[0;34m\u001b[0m\u001b[0m\n\u001b[1;32m      4\u001b[0m     \u001b[0my_pred\u001b[0m\u001b[0;34m[\u001b[0m\u001b[0my_pred\u001b[0m \u001b[0;34m==\u001b[0m \u001b[0;36m0\u001b[0m\u001b[0;34m]\u001b[0m \u001b[0;34m=\u001b[0m \u001b[0;34m-\u001b[0m\u001b[0;36m1\u001b[0m\u001b[0;34m\u001b[0m\u001b[0;34m\u001b[0m\u001b[0m\n\u001b[0;32m----> 5\u001b[0;31m     \u001b[0mdf\u001b[0m \u001b[0;34m=\u001b[0m \u001b[0mpd\u001b[0m\u001b[0;34m.\u001b[0m\u001b[0mDataFrame\u001b[0m\u001b[0;34m(\u001b[0m\u001b[0mdata\u001b[0m \u001b[0;34m=\u001b[0m \u001b[0minputsi\u001b[0m\u001b[0;34m[\u001b[0m\u001b[0;36m0\u001b[0m\u001b[0;34m:\u001b[0m\u001b[0;34m,\u001b[0m \u001b[0;36m0\u001b[0m\u001b[0;34m:\u001b[0m\u001b[0;34m]\u001b[0m\u001b[0;34m)\u001b[0m\u001b[0;34m.\u001b[0m\u001b[0mT\u001b[0m\u001b[0;34m\u001b[0m\u001b[0;34m\u001b[0m\u001b[0m\n\u001b[0m\u001b[1;32m      6\u001b[0m     \u001b[0mdf\u001b[0m\u001b[0;34m.\u001b[0m\u001b[0mcolumns\u001b[0m \u001b[0;34m=\u001b[0m \u001b[0;34m[\u001b[0m\u001b[0;34m'x'\u001b[0m\u001b[0;34m+\u001b[0m\u001b[0mstr\u001b[0m\u001b[0;34m(\u001b[0m\u001b[0mi\u001b[0m\u001b[0;34m)\u001b[0m \u001b[0;32mfor\u001b[0m \u001b[0mi\u001b[0m \u001b[0;32min\u001b[0m \u001b[0mrange\u001b[0m\u001b[0;34m(\u001b[0m\u001b[0mdim_of_inputs\u001b[0m\u001b[0;34m+\u001b[0m\u001b[0;36m1\u001b[0m\u001b[0;34m)\u001b[0m\u001b[0;34m]\u001b[0m\u001b[0;34m\u001b[0m\u001b[0;34m\u001b[0m\u001b[0m\n\u001b[1;32m      7\u001b[0m     \u001b[0mdf\u001b[0m\u001b[0;34m[\u001b[0m\u001b[0;34m'y'\u001b[0m\u001b[0;34m]\u001b[0m \u001b[0;34m=\u001b[0m \u001b[0my_pred\u001b[0m\u001b[0;34m\u001b[0m\u001b[0;34m\u001b[0m\u001b[0m\n",
      "\u001b[0;32m~/opt/anaconda3/lib/python3.7/site-packages/pandas/core/frame.py\u001b[0m in \u001b[0;36mtranspose\u001b[0;34m(self, *args, **kwargs)\u001b[0m\n\u001b[1;32m   2754\u001b[0m         \"\"\"\n\u001b[1;32m   2755\u001b[0m         \u001b[0mnv\u001b[0m\u001b[0;34m.\u001b[0m\u001b[0mvalidate_transpose\u001b[0m\u001b[0;34m(\u001b[0m\u001b[0margs\u001b[0m\u001b[0;34m,\u001b[0m \u001b[0mdict\u001b[0m\u001b[0;34m(\u001b[0m\u001b[0;34m)\u001b[0m\u001b[0;34m)\u001b[0m\u001b[0;34m\u001b[0m\u001b[0;34m\u001b[0m\u001b[0m\n\u001b[0;32m-> 2756\u001b[0;31m         \u001b[0;32mreturn\u001b[0m \u001b[0msuper\u001b[0m\u001b[0;34m(\u001b[0m\u001b[0;34m)\u001b[0m\u001b[0;34m.\u001b[0m\u001b[0mtranspose\u001b[0m\u001b[0;34m(\u001b[0m\u001b[0;36m1\u001b[0m\u001b[0;34m,\u001b[0m \u001b[0;36m0\u001b[0m\u001b[0;34m,\u001b[0m \u001b[0;34m**\u001b[0m\u001b[0mkwargs\u001b[0m\u001b[0;34m)\u001b[0m\u001b[0;34m\u001b[0m\u001b[0;34m\u001b[0m\u001b[0m\n\u001b[0m\u001b[1;32m   2757\u001b[0m \u001b[0;34m\u001b[0m\u001b[0m\n\u001b[1;32m   2758\u001b[0m     \u001b[0mT\u001b[0m \u001b[0;34m=\u001b[0m \u001b[0mproperty\u001b[0m\u001b[0;34m(\u001b[0m\u001b[0mtranspose\u001b[0m\u001b[0;34m)\u001b[0m\u001b[0;34m\u001b[0m\u001b[0;34m\u001b[0m\u001b[0m\n",
      "\u001b[0;32m~/opt/anaconda3/lib/python3.7/site-packages/pandas/core/generic.py\u001b[0m in \u001b[0;36mtranspose\u001b[0;34m(self, *args, **kwargs)\u001b[0m\n\u001b[1;32m    728\u001b[0m             \u001b[0mself\u001b[0m\u001b[0;34m,\u001b[0m \u001b[0;34m[\u001b[0m\u001b[0mself\u001b[0m\u001b[0;34m.\u001b[0m\u001b[0m_get_axis\u001b[0m\u001b[0;34m(\u001b[0m\u001b[0mx\u001b[0m\u001b[0;34m)\u001b[0m \u001b[0;32mfor\u001b[0m \u001b[0mx\u001b[0m \u001b[0;32min\u001b[0m \u001b[0maxes_names\u001b[0m\u001b[0;34m]\u001b[0m\u001b[0;34m\u001b[0m\u001b[0;34m\u001b[0m\u001b[0m\n\u001b[1;32m    729\u001b[0m         )\n\u001b[0;32m--> 730\u001b[0;31m         \u001b[0mnew_values\u001b[0m \u001b[0;34m=\u001b[0m \u001b[0mself\u001b[0m\u001b[0;34m.\u001b[0m\u001b[0mvalues\u001b[0m\u001b[0;34m.\u001b[0m\u001b[0mtranspose\u001b[0m\u001b[0;34m(\u001b[0m\u001b[0maxes_numbers\u001b[0m\u001b[0;34m)\u001b[0m\u001b[0;34m\u001b[0m\u001b[0;34m\u001b[0m\u001b[0m\n\u001b[0m\u001b[1;32m    731\u001b[0m         \u001b[0;32mif\u001b[0m \u001b[0mkwargs\u001b[0m\u001b[0;34m.\u001b[0m\u001b[0mpop\u001b[0m\u001b[0;34m(\u001b[0m\u001b[0;34m\"copy\"\u001b[0m\u001b[0;34m,\u001b[0m \u001b[0;32mNone\u001b[0m\u001b[0;34m)\u001b[0m \u001b[0;32mor\u001b[0m \u001b[0;34m(\u001b[0m\u001b[0mlen\u001b[0m\u001b[0;34m(\u001b[0m\u001b[0margs\u001b[0m\u001b[0;34m)\u001b[0m \u001b[0;32mand\u001b[0m \u001b[0margs\u001b[0m\u001b[0;34m[\u001b[0m\u001b[0;34m-\u001b[0m\u001b[0;36m1\u001b[0m\u001b[0;34m]\u001b[0m\u001b[0;34m)\u001b[0m\u001b[0;34m:\u001b[0m\u001b[0;34m\u001b[0m\u001b[0;34m\u001b[0m\u001b[0m\n\u001b[1;32m    732\u001b[0m             \u001b[0mnew_values\u001b[0m \u001b[0;34m=\u001b[0m \u001b[0mnew_values\u001b[0m\u001b[0;34m.\u001b[0m\u001b[0mcopy\u001b[0m\u001b[0;34m(\u001b[0m\u001b[0;34m)\u001b[0m\u001b[0;34m\u001b[0m\u001b[0;34m\u001b[0m\u001b[0m\n",
      "\u001b[0;32m~/opt/anaconda3/lib/python3.7/site-packages/pandas/core/generic.py\u001b[0m in \u001b[0;36mvalues\u001b[0;34m(self)\u001b[0m\n\u001b[1;32m   5441\u001b[0m         \"\"\"\n\u001b[1;32m   5442\u001b[0m         \u001b[0mself\u001b[0m\u001b[0;34m.\u001b[0m\u001b[0m_consolidate_inplace\u001b[0m\u001b[0;34m(\u001b[0m\u001b[0;34m)\u001b[0m\u001b[0;34m\u001b[0m\u001b[0;34m\u001b[0m\u001b[0m\n\u001b[0;32m-> 5443\u001b[0;31m         \u001b[0;32mreturn\u001b[0m \u001b[0mself\u001b[0m\u001b[0;34m.\u001b[0m\u001b[0m_data\u001b[0m\u001b[0;34m.\u001b[0m\u001b[0mas_array\u001b[0m\u001b[0;34m(\u001b[0m\u001b[0mtranspose\u001b[0m\u001b[0;34m=\u001b[0m\u001b[0mself\u001b[0m\u001b[0;34m.\u001b[0m\u001b[0m_AXIS_REVERSED\u001b[0m\u001b[0;34m)\u001b[0m\u001b[0;34m\u001b[0m\u001b[0;34m\u001b[0m\u001b[0m\n\u001b[0m\u001b[1;32m   5444\u001b[0m \u001b[0;34m\u001b[0m\u001b[0m\n\u001b[1;32m   5445\u001b[0m     \u001b[0;34m@\u001b[0m\u001b[0mproperty\u001b[0m\u001b[0;34m\u001b[0m\u001b[0;34m\u001b[0m\u001b[0m\n",
      "\u001b[0;32m~/opt/anaconda3/lib/python3.7/site-packages/pandas/core/internals/managers.py\u001b[0m in \u001b[0;36mas_array\u001b[0;34m(self, transpose, items)\u001b[0m\n\u001b[1;32m    812\u001b[0m             \u001b[0mmgr\u001b[0m \u001b[0;34m=\u001b[0m \u001b[0mself\u001b[0m\u001b[0;34m\u001b[0m\u001b[0;34m\u001b[0m\u001b[0m\n\u001b[1;32m    813\u001b[0m \u001b[0;34m\u001b[0m\u001b[0m\n\u001b[0;32m--> 814\u001b[0;31m         \u001b[0;32mif\u001b[0m \u001b[0mself\u001b[0m\u001b[0;34m.\u001b[0m\u001b[0m_is_single_block\u001b[0m \u001b[0;32mand\u001b[0m \u001b[0mmgr\u001b[0m\u001b[0;34m.\u001b[0m\u001b[0mblocks\u001b[0m\u001b[0;34m[\u001b[0m\u001b[0;36m0\u001b[0m\u001b[0;34m]\u001b[0m\u001b[0;34m.\u001b[0m\u001b[0mis_datetimetz\u001b[0m\u001b[0;34m:\u001b[0m\u001b[0;34m\u001b[0m\u001b[0;34m\u001b[0m\u001b[0m\n\u001b[0m\u001b[1;32m    815\u001b[0m             \u001b[0;31m# TODO(Block.get_values): Make DatetimeTZBlock.get_values\u001b[0m\u001b[0;34m\u001b[0m\u001b[0;34m\u001b[0m\u001b[0;34m\u001b[0m\u001b[0m\n\u001b[1;32m    816\u001b[0m             \u001b[0;31m# always be object dtype. Some callers seem to want the\u001b[0m\u001b[0;34m\u001b[0m\u001b[0;34m\u001b[0m\u001b[0;34m\u001b[0m\u001b[0m\n",
      "\u001b[0;32m~/opt/anaconda3/lib/python3.7/site-packages/pandas/core/internals/managers.py\u001b[0m in \u001b[0;36m_is_single_block\u001b[0;34m(self)\u001b[0m\n\u001b[1;32m    209\u001b[0m             \u001b[0;32mreturn\u001b[0m \u001b[0;32mFalse\u001b[0m\u001b[0;34m\u001b[0m\u001b[0;34m\u001b[0m\u001b[0m\n\u001b[1;32m    210\u001b[0m \u001b[0;34m\u001b[0m\u001b[0m\n\u001b[0;32m--> 211\u001b[0;31m         \u001b[0mblk\u001b[0m \u001b[0;34m=\u001b[0m \u001b[0mself\u001b[0m\u001b[0;34m.\u001b[0m\u001b[0mblocks\u001b[0m\u001b[0;34m[\u001b[0m\u001b[0;36m0\u001b[0m\u001b[0;34m]\u001b[0m\u001b[0;34m\u001b[0m\u001b[0;34m\u001b[0m\u001b[0m\n\u001b[0m\u001b[1;32m    212\u001b[0m         return blk.mgr_locs.is_slice_like and blk.mgr_locs.as_slice == slice(\n\u001b[1;32m    213\u001b[0m             \u001b[0;36m0\u001b[0m\u001b[0;34m,\u001b[0m \u001b[0mlen\u001b[0m\u001b[0;34m(\u001b[0m\u001b[0mself\u001b[0m\u001b[0;34m)\u001b[0m\u001b[0;34m,\u001b[0m \u001b[0;36m1\u001b[0m\u001b[0;34m\u001b[0m\u001b[0;34m\u001b[0m\u001b[0m\n",
      "\u001b[0;31mKeyboardInterrupt\u001b[0m: "
     ]
    }
   ],
   "source": [
    "dim = 2\n",
    "w_target = [1,5,3]\n",
    "w_current = [0]* (dim+1)\n",
    "eta = 1\n",
    "\n",
    "w_current, count = pla(pos,dim, w_target, w_current,pos_label)\n",
    "\n",
    "print ('No. of iterations before convergence', count)        \n",
    "x1 = np.linspace(-1, 50, num=50)\n",
    "x2 = -(w_current[0]+w_current[1]*x1)/w_current[2]\n",
    "\n",
    "\n",
    "plt.plot(x1,x2,'g-',label='Hypothesis g',linewidth=2) \n",
    "\n",
    "#plt.ylim((-4,4))\n",
    "#plt.xlim((-4,4))\n",
    "plt.xlabel('x',fontsize='20')\n",
    "plt.ylabel('y', fontsize='20')\n",
    "plt.legend(loc='lower right',fontsize='12')\n",
    "plt.scatter(pos_x_u,pos_y_u,s=0.1)\n",
    "plt.scatter(pos_x_l,pos_y_l,s=0.1)\n",
    "plt.savefig('5(a).png')\n",
    "plt.show()\n"
   ]
  },
  {
   "cell_type": "markdown",
   "metadata": {},
   "source": [
    "#### In the above cell since the data is no longer linearly separable we see that PLA just cannot converge"
   ]
  },
  {
   "cell_type": "markdown",
   "metadata": {},
   "source": [
    "## Section 5 b, implementing pocket algorithm"
   ]
  },
  {
   "cell_type": "code",
   "execution_count": 42,
   "metadata": {},
   "outputs": [],
   "source": [
    "max_iter = 100000\n",
    "X =  pos\n",
    "ylab = pos_label\n",
    "num_of_inputs = len(pos_label)\n",
    "dim = 2\n",
    "w_target = [1,5,3]\n",
    "w_current = [0]* (dim+1)\n",
    "eta = 1"
   ]
  },
  {
   "cell_type": "code",
   "execution_count": 43,
   "metadata": {},
   "outputs": [],
   "source": [
    "def pocket(X,max_iter,ylab,dim,num_of_inputs,w_current,w_target):\n",
    "    pos_label = ylab\n",
    "    pos = X\n",
    "    err = error(X, w_current, ylab,dim,num_of_inputs)\n",
    "    Err = [] \n",
    "    for i in range(0,max_iter):\n",
    "        iterations = 1 #only one PLA update is required per pocket iteration\n",
    "        eta = 1\n",
    "        w_current, count = pla_iter(X,dim, w_target, w_current,ylab,iterations)\n",
    "        best_error = error(X, w_current, ylab,dim,num_of_inputs)\n",
    "        if best_error < err:\n",
    "            err = best_error\n",
    "            best_w = w_current\n",
    "        if i % 1000 == 0:\n",
    "            print(i)\n",
    "        Err.append(err)       \n",
    "    \n",
    "    return w_current,Err"
   ]
  },
  {
   "cell_type": "code",
   "execution_count": 44,
   "metadata": {},
   "outputs": [
    {
     "name": "stdout",
     "output_type": "stream",
     "text": [
      "0\n",
      "1000\n",
      "2000\n",
      "3000\n",
      "4000\n",
      "5000\n",
      "6000\n",
      "7000\n",
      "8000\n",
      "9000\n",
      "10000\n",
      "11000\n",
      "12000\n",
      "13000\n",
      "14000\n",
      "15000\n",
      "16000\n",
      "17000\n",
      "18000\n",
      "19000\n",
      "20000\n",
      "21000\n",
      "22000\n",
      "23000\n",
      "24000\n",
      "25000\n",
      "26000\n",
      "27000\n",
      "28000\n",
      "29000\n",
      "30000\n",
      "31000\n",
      "32000\n",
      "33000\n",
      "34000\n",
      "35000\n",
      "36000\n",
      "37000\n",
      "38000\n",
      "39000\n",
      "40000\n",
      "41000\n",
      "42000\n",
      "43000\n",
      "44000\n",
      "45000\n",
      "46000\n",
      "47000\n",
      "48000\n",
      "49000\n",
      "50000\n",
      "51000\n",
      "52000\n",
      "53000\n",
      "54000\n",
      "55000\n",
      "56000\n",
      "57000\n",
      "58000\n",
      "59000\n",
      "60000\n",
      "61000\n",
      "62000\n",
      "63000\n",
      "64000\n",
      "65000\n",
      "66000\n",
      "67000\n",
      "68000\n",
      "69000\n",
      "70000\n",
      "71000\n",
      "72000\n",
      "73000\n",
      "74000\n",
      "75000\n",
      "76000\n",
      "77000\n",
      "78000\n",
      "79000\n",
      "80000\n",
      "81000\n",
      "82000\n",
      "83000\n",
      "84000\n",
      "85000\n",
      "86000\n",
      "87000\n",
      "88000\n",
      "89000\n",
      "90000\n",
      "91000\n",
      "92000\n",
      "93000\n",
      "94000\n",
      "95000\n",
      "96000\n",
      "97000\n",
      "98000\n",
      "99000\n"
     ]
    }
   ],
   "source": [
    "import time\n",
    "start_time = time.time()\n",
    "w_current,Err = pocket(X,max_iter,ylab,dim,num_of_inputs,w_current,w_target)\n",
    "end_time = time.time()\n",
    "time_p = end_time - start_time\n"
   ]
  },
  {
   "cell_type": "code",
   "execution_count": 45,
   "metadata": {},
   "outputs": [
    {
     "data": {
      "text/plain": [
       "2851.3390181064606"
      ]
     },
     "execution_count": 45,
     "metadata": {},
     "output_type": "execute_result"
    }
   ],
   "source": [
    "time_p"
   ]
  },
  {
   "cell_type": "markdown",
   "metadata": {},
   "source": [
    "#### Plot on Ein Vs t"
   ]
  },
  {
   "cell_type": "code",
   "execution_count": 47,
   "metadata": {},
   "outputs": [
    {
     "data": {
      "image/png": "[encoded data removed]",
      "text/plain": [
       "<Figure size 432x288 with 1 Axes>"
      ]
     },
     "metadata": {
      "needs_background": "light"
     },
     "output_type": "display_data"
    }
   ],
   "source": [
    "# The error goes so low hence in order for better visualization \n",
    "t = np.arange(max_iter)\n",
    "Ein = Err\n",
    "plt.plot(t,Err)\n",
    "plt.xscale(\"log\")\n",
    "plt.xlabel('Iteration number')\n",
    "plt.ylabel('Ein')\n",
    "plt.title('Ein Vs Iteration number')\n",
    "plt.savefig('5(b).png')"
   ]
  },
  {
   "cell_type": "markdown",
   "metadata": {},
   "source": [
    "## Section 5 c, plot the data and final hypothesis"
   ]
  },
  {
   "cell_type": "code",
   "execution_count": 48,
   "metadata": {},
   "outputs": [
    {
     "data": {
      "image/png": "[encoded data removed]",
      "text/plain": [
       "<Figure size 432x288 with 1 Axes>"
      ]
     },
     "metadata": {
      "needs_background": "light"
     },
     "output_type": "display_data"
    }
   ],
   "source": [
    "\n",
    "x1 = np.linspace(-1, 50, num=50)\n",
    "#X = np.c_[np.ones(X.shape[0]), X]\n",
    "x2 = -(w_current[0]+w_current[1]*x1)/w_current[2]\n",
    "\n",
    "\n",
    "plt.plot(x1,x2,'g-',label='Hypothesis g',linewidth=2) \n",
    "\n",
    "#plt.ylim((-4,4))\n",
    "#plt.xlim((-4,4))\n",
    "plt.xlabel('x',fontsize='20')\n",
    "plt.ylabel('y', fontsize='20')\n",
    "plt.legend(loc='lower right',fontsize='12')\n",
    "# plotting  our dataset\n",
    "plt.scatter(pos_x_u,pos_y_u,color='blue')\n",
    "plt.scatter(pos_x_l,pos_y_l,color = 'orange')\n",
    "plt.savefig('5(c).png')\n",
    "plt.show()"
   ]
  },
  {
   "cell_type": "markdown",
   "metadata": {},
   "source": [
    "## Section 5 d, Linear regression"
   ]
  },
  {
   "cell_type": "code",
   "execution_count": 50,
   "metadata": {},
   "outputs": [
    {
     "data": {
      "image/png": "[encoded data removed]",
      "text/plain": [
       "<Figure size 432x288 with 1 Axes>"
      ]
     },
     "metadata": {
      "needs_background": "light"
     },
     "output_type": "display_data"
    }
   ],
   "source": [
    "import time\n",
    "start_time = time.time()\n",
    "\n",
    "\n",
    "x1 = np.linspace(-1, 50, num=50)\n",
    "X = np.hstack((np.ones((len(pos[0]),1)),pos.T))\n",
    "#pos = np.c_[np.ones(pos.shape[0]), pos]\n",
    "w_current_l = lin_reg_weight(X,pos_label)\n",
    "x2 = -(w_current_l[0]+w_current_l[1]*x1)/w_current_l[2]\n",
    "\n",
    "\n",
    "plt.plot(x1,x2,'g-',label='Hypothesis g',linewidth=2) \n",
    "\n",
    "#plt.ylim((-4,4))\n",
    "#plt.xlim((-4,4))\n",
    "plt.xlabel('x',fontsize='20')\n",
    "plt.ylabel('y', fontsize='20')\n",
    "plt.legend(loc='lower right',fontsize='12')\n",
    "plt.scatter(pos_x_u,pos_y_u,color='blue')\n",
    "plt.scatter(pos_x_l,pos_y_l,color='orange')\n",
    "plt.savefig('5(d).png')\n",
    "plt.show()\n",
    "\n",
    "end_time = time.time()\n",
    "time_l = end_time - start_time\n"
   ]
  },
  {
   "cell_type": "code",
   "execution_count": 51,
   "metadata": {},
   "outputs": [
    {
     "name": "stdout",
     "output_type": "stream",
     "text": [
      "Error in pocket algorithm is 0.08840864440078589 and time required is 2851.3390181064606 sec\n",
      "Error in linear regression is 0.0967583497053045 and time required is 0.2073969841003418 sec\n"
     ]
    }
   ],
   "source": [
    "# Quality and computation time:\n",
    "# Error in pocket algorithm\n",
    "\n",
    "E_p = error(pos, w_current, pos_label,dim,num_of_inputs)\n",
    "# Error in linear regression\n",
    "E_l = error(pos, w_current_l, pos_label,dim,num_of_inputs)\n",
    "print('Error in pocket algorithm is {e} and time required is {t} sec'.format(e = E_p, t = time_p))\n",
    "print('Error in linear regression is {e} and time required is {t} sec'.format(e = E_l, t = time_l))"
   ]
  },
  {
   "cell_type": "markdown",
   "metadata": {},
   "source": [
    "#### It is observed that Quality is higher in  linear regression since it obtained the min error in computation time\n",
    "#### quite lower than pocket algorithm"
   ]
  },
  {
   "cell_type": "markdown",
   "metadata": {},
   "source": [
    "# Question 6"
   ]
  },
  {
   "cell_type": "markdown",
   "metadata": {},
   "source": [
    "## Section 6 a, picking up a open dataset in biomedical domain"
   ]
  },
  {
   "cell_type": "code",
   "execution_count": 52,
   "metadata": {},
   "outputs": [],
   "source": [
    "# I am working on a biomedical dataset: Acute Inflammations Dataset\n",
    "# Description of the dataset: The dataset is created to perform presumptive diagnosis of two diseases of urinary\n",
    "# system: 1) Inflammation of urninary bladder 2) Acute nephritis\n",
    "# Attribute Information:\n",
    "\n",
    "#a1 Temperature of patient { 35C-42C } \n",
    "#a2 Occurrence of nausea { yes, no } \n",
    "#a3 Lumbar pain { yes, no } \n",
    "#a4 Urine pushing (continuous need for urination) { yes, no } \n",
    "#a5 Micturition pains { yes, no } \n",
    "#a6 Burning of urethra, itch, swelling of urethra outlet { yes, no } \n",
    "#d1 decision: Inflammation of urinary bladder { yes, no } \n",
    "#d2 decision: Nephritis of renal pelvis origin { yes, no }\n",
    "\n",
    "# Citations: \n",
    "# J.Czerniak, H.Zarzycki, Application of rough sets in the presumptive diagnosis of urinary system diseases, \n",
    "# Artifical Inteligence and Security in Computing Systems, ACS'2002 9th International Conference Proceedings, \n",
    "# Kluwer Academic Publishers,2003, pp. 41-51 \n",
    "\n",
    "# link: http://archive.ics.uci.edu/ml/datasets/Acute+Inflammations\n",
    "# Source: \n",
    "# Jacek Czerniak, Ph.D., Assistant Professor \n",
    "# Systems Research Institute \n",
    "# Polish Academy of Sciences \n",
    "# Laboratory of Intelligent Systems \n",
    "# ul. Newelska 6, Room 218 \n",
    "# 01-447 Warszawa, Poland \n",
    "# e-mail: jacek.czerniak '@' ibspan.waw.pl or jczerniak '@' ukw.edu.pl"
   ]
  },
  {
   "cell_type": "markdown",
   "metadata": {},
   "source": [
    "## Section 6 b ,defining a biomedical problem to be solved through classification"
   ]
  },
  {
   "cell_type": "markdown",
   "metadata": {},
   "source": [
    "#### I intend to develop a classification methodology that predicts based on symptoms whether the patient should be  presumptively diagnosed with 1) Inflammation of urninary bladder 2) Acute nephritis. The symptoms being temperature of the patient, occurence of nausea, lumbar pain, urine pushing, micturition pains and burning of urethra"
   ]
  },
  {
   "cell_type": "markdown",
   "metadata": {},
   "source": [
    "## Section 6 c, load and visualize the data"
   ]
  },
  {
   "cell_type": "code",
   "execution_count": 53,
   "metadata": {},
   "outputs": [
    {
     "data": {
      "text/html": [
       "<div>\n",
       "<style scoped>\n",
       "    .dataframe tbody tr th:only-of-type {\n",
       "        vertical-align: middle;\n",
       "    }\n",
       "\n",
       "    .dataframe tbody tr th {\n",
       "        vertical-align: top;\n",
       "    }\n",
       "\n",
       "    .dataframe thead th {\n",
       "        text-align: right;\n",
       "    }\n",
       "</style>\n",
       "<table border=\"1\" class=\"dataframe\">\n",
       "  <thead>\n",
       "    <tr style=\"text-align: right;\">\n",
       "      <th></th>\n",
       "      <th>Temperature</th>\n",
       "      <th>Occurrence of nausea</th>\n",
       "      <th>Lumbar pain</th>\n",
       "      <th>Urine pushing (continuous need for urination)</th>\n",
       "      <th>Micturition pains</th>\n",
       "      <th>Burning of urethra, itch, swelling of urethra outlet</th>\n",
       "      <th>Inflammation of urinary bladder</th>\n",
       "      <th>Nephritis of renal pelvis origin</th>\n",
       "    </tr>\n",
       "  </thead>\n",
       "  <tbody>\n",
       "    <tr>\n",
       "      <td>0</td>\n",
       "      <td>35,5</td>\n",
       "      <td>no</td>\n",
       "      <td>yes</td>\n",
       "      <td>no</td>\n",
       "      <td>no</td>\n",
       "      <td>no</td>\n",
       "      <td>no</td>\n",
       "      <td>no</td>\n",
       "    </tr>\n",
       "    <tr>\n",
       "      <td>1</td>\n",
       "      <td>35,9</td>\n",
       "      <td>no</td>\n",
       "      <td>no</td>\n",
       "      <td>yes</td>\n",
       "      <td>yes</td>\n",
       "      <td>yes</td>\n",
       "      <td>yes</td>\n",
       "      <td>no</td>\n",
       "    </tr>\n",
       "    <tr>\n",
       "      <td>2</td>\n",
       "      <td>35,9</td>\n",
       "      <td>no</td>\n",
       "      <td>yes</td>\n",
       "      <td>no</td>\n",
       "      <td>no</td>\n",
       "      <td>no</td>\n",
       "      <td>no</td>\n",
       "      <td>no</td>\n",
       "    </tr>\n",
       "    <tr>\n",
       "      <td>3</td>\n",
       "      <td>36,0</td>\n",
       "      <td>no</td>\n",
       "      <td>no</td>\n",
       "      <td>yes</td>\n",
       "      <td>yes</td>\n",
       "      <td>yes</td>\n",
       "      <td>yes</td>\n",
       "      <td>no</td>\n",
       "    </tr>\n",
       "    <tr>\n",
       "      <td>4</td>\n",
       "      <td>36,0</td>\n",
       "      <td>no</td>\n",
       "      <td>yes</td>\n",
       "      <td>no</td>\n",
       "      <td>no</td>\n",
       "      <td>no</td>\n",
       "      <td>no</td>\n",
       "      <td>no</td>\n",
       "    </tr>\n",
       "    <tr>\n",
       "      <td>...</td>\n",
       "      <td>...</td>\n",
       "      <td>...</td>\n",
       "      <td>...</td>\n",
       "      <td>...</td>\n",
       "      <td>...</td>\n",
       "      <td>...</td>\n",
       "      <td>...</td>\n",
       "      <td>...</td>\n",
       "    </tr>\n",
       "    <tr>\n",
       "      <td>115</td>\n",
       "      <td>41,4</td>\n",
       "      <td>no</td>\n",
       "      <td>yes</td>\n",
       "      <td>yes</td>\n",
       "      <td>no</td>\n",
       "      <td>yes</td>\n",
       "      <td>no</td>\n",
       "      <td>yes</td>\n",
       "    </tr>\n",
       "    <tr>\n",
       "      <td>116</td>\n",
       "      <td>41,5</td>\n",
       "      <td>no</td>\n",
       "      <td>no</td>\n",
       "      <td>no</td>\n",
       "      <td>no</td>\n",
       "      <td>no</td>\n",
       "      <td>no</td>\n",
       "      <td>no</td>\n",
       "    </tr>\n",
       "    <tr>\n",
       "      <td>117</td>\n",
       "      <td>41,5</td>\n",
       "      <td>yes</td>\n",
       "      <td>yes</td>\n",
       "      <td>no</td>\n",
       "      <td>yes</td>\n",
       "      <td>no</td>\n",
       "      <td>no</td>\n",
       "      <td>yes</td>\n",
       "    </tr>\n",
       "    <tr>\n",
       "      <td>118</td>\n",
       "      <td>41,5</td>\n",
       "      <td>no</td>\n",
       "      <td>yes</td>\n",
       "      <td>yes</td>\n",
       "      <td>no</td>\n",
       "      <td>yes</td>\n",
       "      <td>no</td>\n",
       "      <td>yes</td>\n",
       "    </tr>\n",
       "    <tr>\n",
       "      <td>119</td>\n",
       "      <td>41,5</td>\n",
       "      <td>no</td>\n",
       "      <td>yes</td>\n",
       "      <td>yes</td>\n",
       "      <td>no</td>\n",
       "      <td>yes</td>\n",
       "      <td>no</td>\n",
       "      <td>yes</td>\n",
       "    </tr>\n",
       "  </tbody>\n",
       "</table>\n",
       "<p>120 rows × 8 columns</p>\n",
       "</div>"
      ],
      "text/plain": [
       "    Temperature Occurrence of nausea Lumbar pain  \\\n",
       "0          35,5                   no         yes   \n",
       "1          35,9                   no          no   \n",
       "2          35,9                   no         yes   \n",
       "3          36,0                   no          no   \n",
       "4          36,0                   no         yes   \n",
       "..          ...                  ...         ...   \n",
       "115        41,4                   no         yes   \n",
       "116        41,5                   no          no   \n",
       "117        41,5                  yes         yes   \n",
       "118        41,5                   no         yes   \n",
       "119        41,5                   no         yes   \n",
       "\n",
       "    Urine pushing (continuous need for urination) Micturition pains  \\\n",
       "0                                              no                no   \n",
       "1                                             yes               yes   \n",
       "2                                              no                no   \n",
       "3                                             yes               yes   \n",
       "4                                              no                no   \n",
       "..                                            ...               ...   \n",
       "115                                           yes                no   \n",
       "116                                            no                no   \n",
       "117                                            no               yes   \n",
       "118                                           yes                no   \n",
       "119                                           yes                no   \n",
       "\n",
       "    Burning of urethra, itch, swelling of urethra outlet  \\\n",
       "0                                                   no     \n",
       "1                                                  yes     \n",
       "2                                                   no     \n",
       "3                                                  yes     \n",
       "4                                                   no     \n",
       "..                                                 ...     \n",
       "115                                                yes     \n",
       "116                                                 no     \n",
       "117                                                 no     \n",
       "118                                                yes     \n",
       "119                                                yes     \n",
       "\n",
       "    Inflammation of urinary bladder Nephritis of renal pelvis origin  \n",
       "0                                no                               no  \n",
       "1                               yes                               no  \n",
       "2                                no                               no  \n",
       "3                               yes                               no  \n",
       "4                                no                               no  \n",
       "..                              ...                              ...  \n",
       "115                              no                              yes  \n",
       "116                              no                               no  \n",
       "117                              no                              yes  \n",
       "118                              no                              yes  \n",
       "119                              no                              yes  \n",
       "\n",
       "[120 rows x 8 columns]"
      ]
     },
     "execution_count": 53,
     "metadata": {},
     "output_type": "execute_result"
    }
   ],
   "source": [
    "data = '/Users/owner/Downloads/diagnosis.data'\n",
    "df = pd.read_csv(data,sep='\\t',encoding='UTF-16',header=None)\n",
    "\n",
    "df.columns = ['Temperature', 'Occurrence of nausea', 'Lumbar pain', 'Urine pushing (continuous need for urination)', 'Micturition pains', 'Burning of urethra, itch, swelling of urethra outlet', 'Inflammation of urinary bladder','Nephritis of renal pelvis origin']\n",
    "df "
   ]
  },
  {
   "cell_type": "code",
   "execution_count": 54,
   "metadata": {},
   "outputs": [
    {
     "data": {
      "text/plain": [
       "0      35.5\n",
       "1      35.9\n",
       "2      35.9\n",
       "3      36.0\n",
       "4      36.0\n",
       "       ... \n",
       "115    41.4\n",
       "116    41.5\n",
       "117    41.5\n",
       "118    41.5\n",
       "119    41.5\n",
       "Name: Temperature, Length: 120, dtype: object"
      ]
     },
     "execution_count": 54,
     "metadata": {},
     "output_type": "execute_result"
    }
   ],
   "source": [
    "# numerizing the first column (Temperature) for e.g. 35,5 becomes 35.5\n",
    "for i in range(0,len(df['Temperature'])):\n",
    "    df['Temperature'][i] = df['Temperature'][i][0] + df['Temperature'][i][1] + '.' + df['Temperature'][i][3]\n",
    "        \n",
    "df['Temperature']\n",
    "\n",
    "# Converting"
   ]
  },
  {
   "cell_type": "code",
   "execution_count": 55,
   "metadata": {},
   "outputs": [
    {
     "data": {
      "text/html": [
       "<div>\n",
       "<style scoped>\n",
       "    .dataframe tbody tr th:only-of-type {\n",
       "        vertical-align: middle;\n",
       "    }\n",
       "\n",
       "    .dataframe tbody tr th {\n",
       "        vertical-align: top;\n",
       "    }\n",
       "\n",
       "    .dataframe thead th {\n",
       "        text-align: right;\n",
       "    }\n",
       "</style>\n",
       "<table border=\"1\" class=\"dataframe\">\n",
       "  <thead>\n",
       "    <tr style=\"text-align: right;\">\n",
       "      <th></th>\n",
       "      <th>Temperature</th>\n",
       "      <th>Occurrence of nausea</th>\n",
       "      <th>Lumbar pain</th>\n",
       "      <th>Urine pushing (continuous need for urination)</th>\n",
       "      <th>Micturition pains</th>\n",
       "      <th>Burning of urethra, itch, swelling of urethra outlet</th>\n",
       "      <th>Inflammation of urinary bladder</th>\n",
       "      <th>Nephritis of renal pelvis origin</th>\n",
       "    </tr>\n",
       "  </thead>\n",
       "  <tbody>\n",
       "    <tr>\n",
       "      <td>0</td>\n",
       "      <td>35.5</td>\n",
       "      <td>no</td>\n",
       "      <td>yes</td>\n",
       "      <td>no</td>\n",
       "      <td>no</td>\n",
       "      <td>no</td>\n",
       "      <td>no</td>\n",
       "      <td>no</td>\n",
       "    </tr>\n",
       "    <tr>\n",
       "      <td>1</td>\n",
       "      <td>35.9</td>\n",
       "      <td>no</td>\n",
       "      <td>no</td>\n",
       "      <td>yes</td>\n",
       "      <td>yes</td>\n",
       "      <td>yes</td>\n",
       "      <td>yes</td>\n",
       "      <td>no</td>\n",
       "    </tr>\n",
       "    <tr>\n",
       "      <td>2</td>\n",
       "      <td>35.9</td>\n",
       "      <td>no</td>\n",
       "      <td>yes</td>\n",
       "      <td>no</td>\n",
       "      <td>no</td>\n",
       "      <td>no</td>\n",
       "      <td>no</td>\n",
       "      <td>no</td>\n",
       "    </tr>\n",
       "    <tr>\n",
       "      <td>3</td>\n",
       "      <td>36.0</td>\n",
       "      <td>no</td>\n",
       "      <td>no</td>\n",
       "      <td>yes</td>\n",
       "      <td>yes</td>\n",
       "      <td>yes</td>\n",
       "      <td>yes</td>\n",
       "      <td>no</td>\n",
       "    </tr>\n",
       "    <tr>\n",
       "      <td>4</td>\n",
       "      <td>36.0</td>\n",
       "      <td>no</td>\n",
       "      <td>yes</td>\n",
       "      <td>no</td>\n",
       "      <td>no</td>\n",
       "      <td>no</td>\n",
       "      <td>no</td>\n",
       "      <td>no</td>\n",
       "    </tr>\n",
       "    <tr>\n",
       "      <td>...</td>\n",
       "      <td>...</td>\n",
       "      <td>...</td>\n",
       "      <td>...</td>\n",
       "      <td>...</td>\n",
       "      <td>...</td>\n",
       "      <td>...</td>\n",
       "      <td>...</td>\n",
       "      <td>...</td>\n",
       "    </tr>\n",
       "    <tr>\n",
       "      <td>115</td>\n",
       "      <td>41.4</td>\n",
       "      <td>no</td>\n",
       "      <td>yes</td>\n",
       "      <td>yes</td>\n",
       "      <td>no</td>\n",
       "      <td>yes</td>\n",
       "      <td>no</td>\n",
       "      <td>yes</td>\n",
       "    </tr>\n",
       "    <tr>\n",
       "      <td>116</td>\n",
       "      <td>41.5</td>\n",
       "      <td>no</td>\n",
       "      <td>no</td>\n",
       "      <td>no</td>\n",
       "      <td>no</td>\n",
       "      <td>no</td>\n",
       "      <td>no</td>\n",
       "      <td>no</td>\n",
       "    </tr>\n",
       "    <tr>\n",
       "      <td>117</td>\n",
       "      <td>41.5</td>\n",
       "      <td>yes</td>\n",
       "      <td>yes</td>\n",
       "      <td>no</td>\n",
       "      <td>yes</td>\n",
       "      <td>no</td>\n",
       "      <td>no</td>\n",
       "      <td>yes</td>\n",
       "    </tr>\n",
       "    <tr>\n",
       "      <td>118</td>\n",
       "      <td>41.5</td>\n",
       "      <td>no</td>\n",
       "      <td>yes</td>\n",
       "      <td>yes</td>\n",
       "      <td>no</td>\n",
       "      <td>yes</td>\n",
       "      <td>no</td>\n",
       "      <td>yes</td>\n",
       "    </tr>\n",
       "    <tr>\n",
       "      <td>119</td>\n",
       "      <td>41.5</td>\n",
       "      <td>no</td>\n",
       "      <td>yes</td>\n",
       "      <td>yes</td>\n",
       "      <td>no</td>\n",
       "      <td>yes</td>\n",
       "      <td>no</td>\n",
       "      <td>yes</td>\n",
       "    </tr>\n",
       "  </tbody>\n",
       "</table>\n",
       "<p>120 rows × 8 columns</p>\n",
       "</div>"
      ],
      "text/plain": [
       "    Temperature Occurrence of nausea Lumbar pain  \\\n",
       "0          35.5                   no         yes   \n",
       "1          35.9                   no          no   \n",
       "2          35.9                   no         yes   \n",
       "3          36.0                   no          no   \n",
       "4          36.0                   no         yes   \n",
       "..          ...                  ...         ...   \n",
       "115        41.4                   no         yes   \n",
       "116        41.5                   no          no   \n",
       "117        41.5                  yes         yes   \n",
       "118        41.5                   no         yes   \n",
       "119        41.5                   no         yes   \n",
       "\n",
       "    Urine pushing (continuous need for urination) Micturition pains  \\\n",
       "0                                              no                no   \n",
       "1                                             yes               yes   \n",
       "2                                              no                no   \n",
       "3                                             yes               yes   \n",
       "4                                              no                no   \n",
       "..                                            ...               ...   \n",
       "115                                           yes                no   \n",
       "116                                            no                no   \n",
       "117                                            no               yes   \n",
       "118                                           yes                no   \n",
       "119                                           yes                no   \n",
       "\n",
       "    Burning of urethra, itch, swelling of urethra outlet  \\\n",
       "0                                                   no     \n",
       "1                                                  yes     \n",
       "2                                                   no     \n",
       "3                                                  yes     \n",
       "4                                                   no     \n",
       "..                                                 ...     \n",
       "115                                                yes     \n",
       "116                                                 no     \n",
       "117                                                 no     \n",
       "118                                                yes     \n",
       "119                                                yes     \n",
       "\n",
       "    Inflammation of urinary bladder Nephritis of renal pelvis origin  \n",
       "0                                no                               no  \n",
       "1                               yes                               no  \n",
       "2                                no                               no  \n",
       "3                               yes                               no  \n",
       "4                                no                               no  \n",
       "..                              ...                              ...  \n",
       "115                              no                              yes  \n",
       "116                              no                               no  \n",
       "117                              no                              yes  \n",
       "118                              no                              yes  \n",
       "119                              no                              yes  \n",
       "\n",
       "[120 rows x 8 columns]"
      ]
     },
     "execution_count": 55,
     "metadata": {},
     "output_type": "execute_result"
    }
   ],
   "source": [
    "df"
   ]
  },
  {
   "cell_type": "markdown",
   "metadata": {},
   "source": [
    "#### Last two columns are the output labels  i.e.  <br> Inflammation of urinary bladder (label 1) and Nephritis of renal pelvis origin (label 2)"
   ]
  },
  {
   "cell_type": "code",
   "execution_count": 56,
   "metadata": {},
   "outputs": [
    {
     "name": "stdout",
     "output_type": "stream",
     "text": [
      "<class 'pandas.core.frame.DataFrame'>\n",
      "RangeIndex: 120 entries, 0 to 119\n",
      "Data columns (total 8 columns):\n",
      "Temperature                                             120 non-null object\n",
      "Occurrence of nausea                                    120 non-null object\n",
      "Lumbar pain                                             120 non-null object\n",
      "Urine pushing (continuous need for urination)           120 non-null object\n",
      "Micturition pains                                       120 non-null object\n",
      "Burning of urethra, itch, swelling of urethra outlet    120 non-null object\n",
      "Inflammation of urinary bladder                         120 non-null object\n",
      "Nephritis of renal pelvis origin                        120 non-null object\n",
      "dtypes: object(8)\n",
      "memory usage: 7.6+ KB\n"
     ]
    }
   ],
   "source": [
    "df.info()"
   ]
  },
  {
   "cell_type": "code",
   "execution_count": 57,
   "metadata": {},
   "outputs": [
    {
     "data": {
      "text/plain": [
       "37.0    8\n",
       "40.0    8\n",
       "37.5    6\n",
       "41.1    5\n",
       "37.9    5\n",
       "40.7    5\n",
       "40.4    5\n",
       "41.5    4\n",
       "41.0    4\n",
       "36.6    4\n",
       "41.2    4\n",
       "37.7    4\n",
       "40.6    3\n",
       "37.3    3\n",
       "37.1    3\n",
       "40.2    3\n",
       "36.0    3\n",
       "37.2    3\n",
       "40.9    3\n",
       "37.6    3\n",
       "36.7    3\n",
       "37.8    3\n",
       "36.9    2\n",
       "36.8    2\n",
       "38.0    2\n",
       "36.2    2\n",
       "37.4    2\n",
       "35.9    2\n",
       "38.3    1\n",
       "36.3    1\n",
       "40.1    1\n",
       "40.8    1\n",
       "39.7    1\n",
       "40.5    1\n",
       "38.9    1\n",
       "39.4    1\n",
       "41.4    1\n",
       "38.7    1\n",
       "41.3    1\n",
       "35.5    1\n",
       "40.3    1\n",
       "39.0    1\n",
       "38.5    1\n",
       "38.1    1\n",
       "Name: Temperature, dtype: int64"
      ]
     },
     "execution_count": 57,
     "metadata": {},
     "output_type": "execute_result"
    }
   ],
   "source": [
    "df[\"Temperature\"].value_counts()"
   ]
  },
  {
   "cell_type": "markdown",
   "metadata": {},
   "source": [
    "## One hot encoding of the data"
   ]
  },
  {
   "cell_type": "code",
   "execution_count": 58,
   "metadata": {},
   "outputs": [],
   "source": [
    "# Making the data ready for computations i.e. turning the categorical data to numerical data\n",
    "\n",
    "for j in range(1,len(df.keys())):\n",
    "    for i in range(0,len(df[df.keys()[j]])):\n",
    "        if df[df.keys()[j]][i] == 'yes':\n",
    "                   df[df.keys()[j]][i] = 1\n",
    "        if df[df.keys()[j]][i] == 'no':\n",
    "                   df[df.keys()[j]][i] = 0\n",
    "                   \n",
    "for i in range(0,len(df['Temperature'])):\n",
    "    df['Temperature'][i] = float(df['Temperature'][i])     \n",
    "\n",
    "    \n",
    "# Making the output binary for both the labels\n",
    "for j in range(len(df.keys())-2,len(df.keys())):\n",
    "    for i in range(0,len(df[df.keys()[j]])):\n",
    "        if df[df.keys()[j]][i] == 1:\n",
    "                   df[df.keys()[j]][i] = 1\n",
    "        if df[df.keys()[j]][i] == 0:\n",
    "                   df[df.keys()[j]][i] = -1\n",
    "\n",
    "\n",
    "\n",
    "\n",
    "\n"
   ]
  },
  {
   "cell_type": "markdown",
   "metadata": {},
   "source": [
    "## Visualization"
   ]
  },
  {
   "cell_type": "code",
   "execution_count": 70,
   "metadata": {},
   "outputs": [
    {
     "data": {
      "image/png": "[encoded data removed]",
      "text/plain": [
       "<Figure size 1080x720 with 6 Axes>"
      ]
     },
     "metadata": {
      "needs_background": "light"
     },
     "output_type": "display_data"
    }
   ],
   "source": [
    "\n",
    "\n",
    "%matplotlib inline\n",
    "import matplotlib.pyplot as plt\n",
    "#df['Temperature'].hist(bins=10, figsize=(20,15),rwidth=0.5)\n",
    "#plt.show()\n",
    "\n",
    "data = np.vstack((df['Temperature'],df['Occurrence of nausea'],df['Lumbar pain'], df['Urine pushing (continuous need for urination)'], df['Micturition pains'], df['Burning of urethra, itch, swelling of urethra outlet']))\n",
    "xaxes = ['Temperature in C', '(Yes=1,No=0)', '(Yes=1,No=0)', '(Yes=1,No=0)', '(Yes=1,No=0)', '(Yes=1,No=0)'  ]\n",
    "yaxes = ['Frequency','Frequency','Frequency','Frequency','Frequency','Frequency' ]\n",
    "titles = ['Temperature','Occurence of nausea','Lumbar pain','Urine pushing(continuous need for urination)','Micturition pains', 'Burning of urethra, itch, swelling of urethra outlet' ] \n",
    "\n",
    "f,a = plt.subplots(2,3,figsize=(15,10))\n",
    "a = a.ravel()\n",
    "#fig= plt.figure(figsize=(6,3))\n",
    "for idx,ax in enumerate(a):\n",
    "    \n",
    "    ax.hist(data[idx])\n",
    "    ax.set_title(titles[idx])\n",
    "    ax.set_xlabel(xaxes[idx])\n",
    "    ax.set_ylabel(yaxes[idx])\n",
    "\n",
    "plt.tight_layout(pad=5.0)\n",
    "\n",
    "plt.savefig('6(1).png')"
   ]
  },
  {
   "cell_type": "markdown",
   "metadata": {},
   "source": [
    "#### It is seen that the data is bi-modal in all the features and is fairly distributed."
   ]
  },
  {
   "cell_type": "markdown",
   "metadata": {},
   "source": [
    "#### Creating a correlation heatmap for categorical features and decision labels:"
   ]
  },
  {
   "cell_type": "code",
   "execution_count": 220,
   "metadata": {},
   "outputs": [],
   "source": [
    "# For this we implement Cramer's V test"
   ]
  },
  {
   "cell_type": "code",
   "execution_count": 60,
   "metadata": {},
   "outputs": [
    {
     "data": {
      "text/html": [
       "<div>\n",
       "<style scoped>\n",
       "    .dataframe tbody tr th:only-of-type {\n",
       "        vertical-align: middle;\n",
       "    }\n",
       "\n",
       "    .dataframe tbody tr th {\n",
       "        vertical-align: top;\n",
       "    }\n",
       "\n",
       "    .dataframe thead th {\n",
       "        text-align: right;\n",
       "    }\n",
       "</style>\n",
       "<table border=\"1\" class=\"dataframe\">\n",
       "  <thead>\n",
       "    <tr style=\"text-align: right;\">\n",
       "      <th></th>\n",
       "      <th>Occurrence of nausea</th>\n",
       "      <th>Lumbar pain</th>\n",
       "      <th>Urine pushing (continuous need for urination)</th>\n",
       "      <th>Micturition pains</th>\n",
       "      <th>Burning of urethra, itch, swelling of urethra outlet</th>\n",
       "      <th>Inflammation of urinary bladder</th>\n",
       "      <th>Nephritis of renal pelvis origin</th>\n",
       "    </tr>\n",
       "  </thead>\n",
       "  <tbody>\n",
       "    <tr>\n",
       "      <td>0</td>\n",
       "      <td>0</td>\n",
       "      <td>1</td>\n",
       "      <td>0</td>\n",
       "      <td>0</td>\n",
       "      <td>0</td>\n",
       "      <td>-1</td>\n",
       "      <td>-1</td>\n",
       "    </tr>\n",
       "    <tr>\n",
       "      <td>1</td>\n",
       "      <td>0</td>\n",
       "      <td>0</td>\n",
       "      <td>1</td>\n",
       "      <td>1</td>\n",
       "      <td>1</td>\n",
       "      <td>1</td>\n",
       "      <td>-1</td>\n",
       "    </tr>\n",
       "    <tr>\n",
       "      <td>2</td>\n",
       "      <td>0</td>\n",
       "      <td>1</td>\n",
       "      <td>0</td>\n",
       "      <td>0</td>\n",
       "      <td>0</td>\n",
       "      <td>-1</td>\n",
       "      <td>-1</td>\n",
       "    </tr>\n",
       "    <tr>\n",
       "      <td>3</td>\n",
       "      <td>0</td>\n",
       "      <td>0</td>\n",
       "      <td>1</td>\n",
       "      <td>1</td>\n",
       "      <td>1</td>\n",
       "      <td>1</td>\n",
       "      <td>-1</td>\n",
       "    </tr>\n",
       "    <tr>\n",
       "      <td>4</td>\n",
       "      <td>0</td>\n",
       "      <td>1</td>\n",
       "      <td>0</td>\n",
       "      <td>0</td>\n",
       "      <td>0</td>\n",
       "      <td>-1</td>\n",
       "      <td>-1</td>\n",
       "    </tr>\n",
       "    <tr>\n",
       "      <td>...</td>\n",
       "      <td>...</td>\n",
       "      <td>...</td>\n",
       "      <td>...</td>\n",
       "      <td>...</td>\n",
       "      <td>...</td>\n",
       "      <td>...</td>\n",
       "      <td>...</td>\n",
       "    </tr>\n",
       "    <tr>\n",
       "      <td>115</td>\n",
       "      <td>0</td>\n",
       "      <td>1</td>\n",
       "      <td>1</td>\n",
       "      <td>0</td>\n",
       "      <td>1</td>\n",
       "      <td>-1</td>\n",
       "      <td>1</td>\n",
       "    </tr>\n",
       "    <tr>\n",
       "      <td>116</td>\n",
       "      <td>0</td>\n",
       "      <td>0</td>\n",
       "      <td>0</td>\n",
       "      <td>0</td>\n",
       "      <td>0</td>\n",
       "      <td>-1</td>\n",
       "      <td>-1</td>\n",
       "    </tr>\n",
       "    <tr>\n",
       "      <td>117</td>\n",
       "      <td>1</td>\n",
       "      <td>1</td>\n",
       "      <td>0</td>\n",
       "      <td>1</td>\n",
       "      <td>0</td>\n",
       "      <td>-1</td>\n",
       "      <td>1</td>\n",
       "    </tr>\n",
       "    <tr>\n",
       "      <td>118</td>\n",
       "      <td>0</td>\n",
       "      <td>1</td>\n",
       "      <td>1</td>\n",
       "      <td>0</td>\n",
       "      <td>1</td>\n",
       "      <td>-1</td>\n",
       "      <td>1</td>\n",
       "    </tr>\n",
       "    <tr>\n",
       "      <td>119</td>\n",
       "      <td>0</td>\n",
       "      <td>1</td>\n",
       "      <td>1</td>\n",
       "      <td>0</td>\n",
       "      <td>1</td>\n",
       "      <td>-1</td>\n",
       "      <td>1</td>\n",
       "    </tr>\n",
       "  </tbody>\n",
       "</table>\n",
       "<p>120 rows × 7 columns</p>\n",
       "</div>"
      ],
      "text/plain": [
       "    Occurrence of nausea Lumbar pain  \\\n",
       "0                      0           1   \n",
       "1                      0           0   \n",
       "2                      0           1   \n",
       "3                      0           0   \n",
       "4                      0           1   \n",
       "..                   ...         ...   \n",
       "115                    0           1   \n",
       "116                    0           0   \n",
       "117                    1           1   \n",
       "118                    0           1   \n",
       "119                    0           1   \n",
       "\n",
       "    Urine pushing (continuous need for urination) Micturition pains  \\\n",
       "0                                               0                 0   \n",
       "1                                               1                 1   \n",
       "2                                               0                 0   \n",
       "3                                               1                 1   \n",
       "4                                               0                 0   \n",
       "..                                            ...               ...   \n",
       "115                                             1                 0   \n",
       "116                                             0                 0   \n",
       "117                                             0                 1   \n",
       "118                                             1                 0   \n",
       "119                                             1                 0   \n",
       "\n",
       "    Burning of urethra, itch, swelling of urethra outlet  \\\n",
       "0                                                    0     \n",
       "1                                                    1     \n",
       "2                                                    0     \n",
       "3                                                    1     \n",
       "4                                                    0     \n",
       "..                                                 ...     \n",
       "115                                                  1     \n",
       "116                                                  0     \n",
       "117                                                  0     \n",
       "118                                                  1     \n",
       "119                                                  1     \n",
       "\n",
       "    Inflammation of urinary bladder Nephritis of renal pelvis origin  \n",
       "0                                -1                               -1  \n",
       "1                                 1                               -1  \n",
       "2                                -1                               -1  \n",
       "3                                 1                               -1  \n",
       "4                                -1                               -1  \n",
       "..                              ...                              ...  \n",
       "115                              -1                                1  \n",
       "116                              -1                               -1  \n",
       "117                              -1                                1  \n",
       "118                              -1                                1  \n",
       "119                              -1                                1  \n",
       "\n",
       "[120 rows x 7 columns]"
      ]
     },
     "execution_count": 60,
     "metadata": {},
     "output_type": "execute_result"
    }
   ],
   "source": [
    "df2 = df[[\"Occurrence of nausea\",\"Lumbar pain\",\"Urine pushing (continuous need for urination)\",\"Micturition pains\", \"Burning of urethra, itch, swelling of urethra outlet\", \"Inflammation of urinary bladder\", \"Nephritis of renal pelvis origin\" ]]\n",
    "df2"
   ]
  },
  {
   "cell_type": "code",
   "execution_count": 61,
   "metadata": {},
   "outputs": [],
   "source": [
    "# This function to perform Cramer's V test is obtained from kaggle under the following link\n",
    "# https://www.kaggle.com/chrisbss1/cramer-s-v-correlation-matrix?fbclid=IwAR0rrBAKXAAgDon8aSzN6UJMSs6cdX-FwqO2bkgpIbX_JuUMuNiFyEHZqOY\n",
    "from scipy.stats import chi2_contingency\n",
    "import seaborn as sns\n",
    "\n",
    "def cramers_V(var1,var2):\n",
    "    \n",
    "    crosstab =np.array(pd.crosstab(var1,var2, rownames=None, colnames=None)) # Cross table building\n",
    "    stat = chi2_contingency(crosstab)[0] # Keeping of the test statistic of the Chi2 test\n",
    "    obs = np.sum(crosstab) # Number of observations\n",
    "    mini = min(crosstab.shape)-1 # Take the minimum value between the columns and the rows of the cross table\n",
    "    \n",
    "    return (stat/(obs*mini))"
   ]
  },
  {
   "cell_type": "code",
   "execution_count": 71,
   "metadata": {},
   "outputs": [
    {
     "data": {
      "image/png": "[encoded data removed]",
      "text/plain": [
       "<Figure size 432x288 with 2 Axes>"
      ]
     },
     "metadata": {},
     "output_type": "display_data"
    }
   ],
   "source": [
    "rows= []\n",
    "\n",
    "for var1 in df2:\n",
    "    col = []\n",
    "    for var2 in df2 :\n",
    "        cramers =cramers_V(df2[var1], df2[var2]) # Calling the function for Cramer's V test\n",
    "        col.append(round(cramers,2)) # Keeping of the rounded value of the Cramer's V  \n",
    "    rows.append(col)\n",
    "  \n",
    "cramers_results = np.array(rows)\n",
    "df3 = pd.DataFrame(cramers_results, columns = df2.columns, index =df2.columns)\n",
    "\n",
    "with sns.axes_style(\"white\"):\n",
    "    ax = sns.heatmap(df3,vmin=0., vmax=1, square=True)\n",
    "plt.savefig('6(2).png')\n",
    "plt.show()"
   ]
  },
  {
   "cell_type": "markdown",
   "metadata": {},
   "source": [
    "## Normalization of the Temperature feature"
   ]
  },
  {
   "cell_type": "code",
   "execution_count": 63,
   "metadata": {},
   "outputs": [
    {
     "data": {
      "text/html": [
       "<div>\n",
       "<style scoped>\n",
       "    .dataframe tbody tr th:only-of-type {\n",
       "        vertical-align: middle;\n",
       "    }\n",
       "\n",
       "    .dataframe tbody tr th {\n",
       "        vertical-align: top;\n",
       "    }\n",
       "\n",
       "    .dataframe thead th {\n",
       "        text-align: right;\n",
       "    }\n",
       "</style>\n",
       "<table border=\"1\" class=\"dataframe\">\n",
       "  <thead>\n",
       "    <tr style=\"text-align: right;\">\n",
       "      <th></th>\n",
       "      <th>Temperature</th>\n",
       "      <th>Occurrence of nausea</th>\n",
       "      <th>Lumbar pain</th>\n",
       "      <th>Urine pushing (continuous need for urination)</th>\n",
       "      <th>Micturition pains</th>\n",
       "      <th>Burning of urethra, itch, swelling of urethra outlet</th>\n",
       "      <th>Inflammation of urinary bladder</th>\n",
       "      <th>Nephritis of renal pelvis origin</th>\n",
       "    </tr>\n",
       "  </thead>\n",
       "  <tbody>\n",
       "    <tr>\n",
       "      <td>0</td>\n",
       "      <td>0</td>\n",
       "      <td>0</td>\n",
       "      <td>1</td>\n",
       "      <td>0</td>\n",
       "      <td>0</td>\n",
       "      <td>0</td>\n",
       "      <td>-1</td>\n",
       "      <td>-1</td>\n",
       "    </tr>\n",
       "    <tr>\n",
       "      <td>1</td>\n",
       "      <td>0.86506</td>\n",
       "      <td>0</td>\n",
       "      <td>0</td>\n",
       "      <td>1</td>\n",
       "      <td>1</td>\n",
       "      <td>1</td>\n",
       "      <td>1</td>\n",
       "      <td>-1</td>\n",
       "    </tr>\n",
       "    <tr>\n",
       "      <td>2</td>\n",
       "      <td>0.86506</td>\n",
       "      <td>0</td>\n",
       "      <td>1</td>\n",
       "      <td>0</td>\n",
       "      <td>0</td>\n",
       "      <td>0</td>\n",
       "      <td>-1</td>\n",
       "      <td>-1</td>\n",
       "    </tr>\n",
       "    <tr>\n",
       "      <td>3</td>\n",
       "      <td>0.86747</td>\n",
       "      <td>0</td>\n",
       "      <td>0</td>\n",
       "      <td>1</td>\n",
       "      <td>1</td>\n",
       "      <td>1</td>\n",
       "      <td>1</td>\n",
       "      <td>-1</td>\n",
       "    </tr>\n",
       "    <tr>\n",
       "      <td>4</td>\n",
       "      <td>0.86747</td>\n",
       "      <td>0</td>\n",
       "      <td>1</td>\n",
       "      <td>0</td>\n",
       "      <td>0</td>\n",
       "      <td>0</td>\n",
       "      <td>-1</td>\n",
       "      <td>-1</td>\n",
       "    </tr>\n",
       "    <tr>\n",
       "      <td>...</td>\n",
       "      <td>...</td>\n",
       "      <td>...</td>\n",
       "      <td>...</td>\n",
       "      <td>...</td>\n",
       "      <td>...</td>\n",
       "      <td>...</td>\n",
       "      <td>...</td>\n",
       "      <td>...</td>\n",
       "    </tr>\n",
       "    <tr>\n",
       "      <td>115</td>\n",
       "      <td>0.99759</td>\n",
       "      <td>0</td>\n",
       "      <td>1</td>\n",
       "      <td>1</td>\n",
       "      <td>0</td>\n",
       "      <td>1</td>\n",
       "      <td>-1</td>\n",
       "      <td>1</td>\n",
       "    </tr>\n",
       "    <tr>\n",
       "      <td>116</td>\n",
       "      <td>1</td>\n",
       "      <td>0</td>\n",
       "      <td>0</td>\n",
       "      <td>0</td>\n",
       "      <td>0</td>\n",
       "      <td>0</td>\n",
       "      <td>-1</td>\n",
       "      <td>-1</td>\n",
       "    </tr>\n",
       "    <tr>\n",
       "      <td>117</td>\n",
       "      <td>1</td>\n",
       "      <td>1</td>\n",
       "      <td>1</td>\n",
       "      <td>0</td>\n",
       "      <td>1</td>\n",
       "      <td>0</td>\n",
       "      <td>-1</td>\n",
       "      <td>1</td>\n",
       "    </tr>\n",
       "    <tr>\n",
       "      <td>118</td>\n",
       "      <td>1</td>\n",
       "      <td>0</td>\n",
       "      <td>1</td>\n",
       "      <td>1</td>\n",
       "      <td>0</td>\n",
       "      <td>1</td>\n",
       "      <td>-1</td>\n",
       "      <td>1</td>\n",
       "    </tr>\n",
       "    <tr>\n",
       "      <td>119</td>\n",
       "      <td>1</td>\n",
       "      <td>0</td>\n",
       "      <td>1</td>\n",
       "      <td>1</td>\n",
       "      <td>0</td>\n",
       "      <td>1</td>\n",
       "      <td>-1</td>\n",
       "      <td>1</td>\n",
       "    </tr>\n",
       "  </tbody>\n",
       "</table>\n",
       "<p>120 rows × 8 columns</p>\n",
       "</div>"
      ],
      "text/plain": [
       "    Temperature Occurrence of nausea Lumbar pain  \\\n",
       "0             0                    0           1   \n",
       "1       0.86506                    0           0   \n",
       "2       0.86506                    0           1   \n",
       "3       0.86747                    0           0   \n",
       "4       0.86747                    0           1   \n",
       "..          ...                  ...         ...   \n",
       "115     0.99759                    0           1   \n",
       "116           1                    0           0   \n",
       "117           1                    1           1   \n",
       "118           1                    0           1   \n",
       "119           1                    0           1   \n",
       "\n",
       "    Urine pushing (continuous need for urination) Micturition pains  \\\n",
       "0                                               0                 0   \n",
       "1                                               1                 1   \n",
       "2                                               0                 0   \n",
       "3                                               1                 1   \n",
       "4                                               0                 0   \n",
       "..                                            ...               ...   \n",
       "115                                             1                 0   \n",
       "116                                             0                 0   \n",
       "117                                             0                 1   \n",
       "118                                             1                 0   \n",
       "119                                             1                 0   \n",
       "\n",
       "    Burning of urethra, itch, swelling of urethra outlet  \\\n",
       "0                                                    0     \n",
       "1                                                    1     \n",
       "2                                                    0     \n",
       "3                                                    1     \n",
       "4                                                    0     \n",
       "..                                                 ...     \n",
       "115                                                  1     \n",
       "116                                                  0     \n",
       "117                                                  0     \n",
       "118                                                  1     \n",
       "119                                                  1     \n",
       "\n",
       "    Inflammation of urinary bladder Nephritis of renal pelvis origin  \n",
       "0                                -1                               -1  \n",
       "1                                 1                               -1  \n",
       "2                                -1                               -1  \n",
       "3                                 1                               -1  \n",
       "4                                -1                               -1  \n",
       "..                              ...                              ...  \n",
       "115                              -1                                1  \n",
       "116                              -1                               -1  \n",
       "117                              -1                                1  \n",
       "118                              -1                                1  \n",
       "119                              -1                                1  \n",
       "\n",
       "[120 rows x 8 columns]"
      ]
     },
     "execution_count": 63,
     "metadata": {},
     "output_type": "execute_result"
    }
   ],
   "source": [
    "\n",
    "# Instead of standardizing the column of Temperature, we normalize it so it varies between 0 and 1 using \n",
    "# the equation:\n",
    "        \n",
    "# normalization\n",
    "for i in range(0,len(df['Temperature'])):\n",
    "    df['Temperature'][i] = (df['Temperature'][i] - df['Temperature'].min()) /  (df['Temperature'].max() - df['Temperature'].min()) \n",
    "\n",
    "df"
   ]
  },
  {
   "cell_type": "markdown",
   "metadata": {},
   "source": [
    "## Train/Test split"
   ]
  },
  {
   "cell_type": "code",
   "execution_count": 64,
   "metadata": {},
   "outputs": [],
   "source": [
    "df_copy = df.copy()\n",
    "train_set = df_copy.sample(frac=0.6, random_state=0)\n",
    "test_set = df_copy.drop(train_set.index)"
   ]
  },
  {
   "cell_type": "code",
   "execution_count": 296,
   "metadata": {},
   "outputs": [],
   "source": [
    "#print ('Training set')\n",
    "#print (train_set)\n",
    "#print ('\\nTest set')\n",
    "#print (test_set)\n",
    "#print ('\\nOriginal DataFrame')\n",
    "#print (df)\n",
    "#np.array(train_set)"
   ]
  },
  {
   "cell_type": "code",
   "execution_count": 65,
   "metadata": {},
   "outputs": [],
   "source": [
    "# Using pop to extract labels 1 (Inflammation of urinary bladder) and 2 (Nephritis of renal pelvis origin)\n",
    "\n",
    "train_set_labels_1 = train_set.pop('Inflammation of urinary bladder')\n",
    "test_set_labels_1 = test_set.pop('Inflammation of urinary bladder')\n",
    "\n",
    "train_set_labels_2 = train_set.pop('Nephritis of renal pelvis origin')\n",
    "test_set_labels_2 = test_set.pop('Nephritis of renal pelvis origin')\n"
   ]
  },
  {
   "cell_type": "code",
   "execution_count": 393,
   "metadata": {},
   "outputs": [],
   "source": [
    "#print(test_set_labels_1)\n",
    "#print(test_set_labels_2)\n",
    "#np.array(train_set_labels_1)"
   ]
  },
  {
   "cell_type": "markdown",
   "metadata": {},
   "source": [
    "## Implementing linear regression (for classification)"
   ]
  },
  {
   "cell_type": "code",
   "execution_count": 66,
   "metadata": {},
   "outputs": [],
   "source": [
    "# For clarity I apply two separate linear regressions: one for each label (Inflammation of the urinary bladder\n",
    "# and Nephritis of renal pelvis origin)\n",
    "\n",
    "## Training the linear regression for classification model\n",
    "\n",
    "\n",
    "#################----Label 1 Inflammation of urinary bladder-------#######\n",
    "X_train_label_1 = np.array(train_set)\n",
    "X_train_label_1 = X_train_label_1.astype(float)\n",
    "y_train_label_1 = np.array(train_set_labels_1)\n",
    "w_label_1 = lin_reg_weight(X_train_label_1,y_train_label_1)\n",
    "y_train_pred_label_1 = np.sign(np.dot(w_label_1,X_train_label_1.T)) \n",
    "X_test_label_1 = np.array(test_set)\n",
    "X_test_label_1 = X_test_label_1.astype(float)\n",
    "y_test_label_1 = np.array(test_set_labels_1)\n",
    "y_test_pred_label_1 = np.sign(np.dot(w_label_1,X_test_label_1.T)) \n",
    "\n",
    "\n",
    "#################----Label 2 Nephritis of renal pelvis origin-------#######\n",
    "X_train_label_2 = np.array(train_set)\n",
    "X_train_label_2 = X_train_label_2.astype(float)\n",
    "y_train_label_2 = np.array(train_set_labels_2)\n",
    "w_label_2 = lin_reg_weight(X_train_label_2,y_train_label_2)\n",
    "y_train_pred_label_2 = np.sign(np.dot(w_label_2,X_train_label_2.T))\n",
    "X_test_label_2 = np.array(test_set)\n",
    "X_test_label_2 = X_test_label_2.astype(float)\n",
    "y_test_label_2 = np.array(test_set_labels_2)\n",
    "y_test_pred_label_2 = np.sign(np.dot(w_label_2,X_test_label_2.T)) \n",
    "\n"
   ]
  },
  {
   "cell_type": "code",
   "execution_count": 67,
   "metadata": {},
   "outputs": [],
   "source": [
    "def er(ytrue, ypred):\n",
    "    \n",
    "    q=0\n",
    "    for i in range(0,len(ytrue)):\n",
    "        \n",
    "        if ypred[i] == 0:\n",
    "            ypred = -1\n",
    "        if ypred[i] == ytrue[i]:\n",
    "            q+=1\n",
    "      \n",
    "    err = 1 - (q/len(ytrue))      \n",
    "    return(err)"
   ]
  },
  {
   "cell_type": "markdown",
   "metadata": {},
   "source": [
    "## Train and Test Error"
   ]
  },
  {
   "cell_type": "code",
   "execution_count": 68,
   "metadata": {},
   "outputs": [],
   "source": [
    "\n",
    "\n",
    "Train_error_label_1 = er(y_train_label_1, y_train_pred_label_1)\n",
    "Test_error_label_1  = er(y_test_label_1, y_test_pred_label_1)\n",
    "\n",
    "\n",
    "Train_error_label_2 = er(y_train_label_2, y_train_pred_label_2)\n",
    "Test_error_label_2  = er(y_test_label_2, y_test_pred_label_2)"
   ]
  },
  {
   "cell_type": "code",
   "execution_count": 69,
   "metadata": {},
   "outputs": [
    {
     "name": "stdout",
     "output_type": "stream",
     "text": [
      "The training error for label 1 is 0.0\n",
      "The testing error for label 1 is 0.0\n",
      "The training error for label 2 is 0.01388888888888884\n",
      "The testing error for label 2 is 0.0\n"
     ]
    }
   ],
   "source": [
    "print('The training error for label 1 is', Train_error_label_1)\n",
    "print('The testing error for label 1 is', Test_error_label_1 )\n",
    "\n",
    "print('The training error for label 2 is', Train_error_label_2)\n",
    "print('The testing error for label 2 is', Test_error_label_2)"
   ]
  },
  {
   "cell_type": "markdown",
   "metadata": {},
   "source": [
    "#### The dataset is smaller as we have just 120 instances with 6 features. This could be the reason why we obtain\n",
    "#### a training model with almost zero error for both the labels and it is observed that this goes true for\n",
    "#### the test set also."
   ]
  },
  {
   "cell_type": "markdown",
   "metadata": {},
   "source": [
    "## Conclusions"
   ]
  },
  {
   "cell_type": "markdown",
   "metadata": {},
   "source": [
    "#### From this assignment I have learned about: how to define a ML problem in biomedical domain. Data cleaning techniques are required before successfully applying a ML model to our dataset. Data cleaning involves many things some of which are how to fill in a missing data, how to treat categorical data (one-hot encoding) and standardization or normalization. Next, I understood few of the visualization techniques particularly about using the Cramers V test to understand the correlation in categorical variables and plotting it as a heat map. The other important tool I am now comfortable with is pandas dataframes. "
   ]
  },
  {
   "cell_type": "markdown",
   "metadata": {},
   "source": [
    "# <center>THE END"
   ]
  }
 ],
 "metadata": {
  "kernelspec": {
   "display_name": "Python 3",
   "language": "python",
   "name": "python3"
  },
  "language_info": {
   "codemirror_mode": {
    "name": "ipython",
    "version": 3
   },
   "file_extension": ".py",
   "mimetype": "text/x-python",
   "name": "python",
   "nbconvert_exporter": "python",
   "pygments_lexer": "ipython3",
   "version": "3.7.4"
  }
 },
 "nbformat": 4,
 "nbformat_minor": 2
}
